{
 "cells": [
  {
   "cell_type": "code",
   "execution_count": 1,
   "id": "4d79e5b9",
   "metadata": {},
   "outputs": [],
   "source": [
    "import pandas as pd\n",
    "import json"
   ]
  },
  {
   "cell_type": "code",
   "execution_count": 2,
   "id": "fdcc9943",
   "metadata": {},
   "outputs": [],
   "source": [
    "def word_count(text):\n",
    "    wc = len(text.split()) # word count\n",
    "    return wc"
   ]
  },
  {
   "cell_type": "code",
   "execution_count": 3,
   "id": "f6c202cb",
   "metadata": {},
   "outputs": [],
   "source": [
    "df = pd.read_csv('essays_in_history.csv')"
   ]
  },
  {
   "cell_type": "code",
   "execution_count": 4,
   "id": "ff4f9532",
   "metadata": {},
   "outputs": [],
   "source": [
    "df = df[['volume', 'chapter number', 'text']]\n",
    "df['genre'] = 'history'\n",
    "df['labels'] = 4\n",
    "df['word_count'] = df['text'].apply(word_count)\n",
    "df = df.rename(columns={'chapter number':'title'})"
   ]
  },
  {
   "cell_type": "code",
   "execution_count": 5,
   "id": "52862154",
   "metadata": {},
   "outputs": [],
   "source": [
    "j_dict = df[['title', 'text', 'word_count', 'genre', 'labels']].to_json('hume_json/essays_in_history.json', \n",
    "                                                                        orient='records',\n",
    "                                                                        index=3)"
   ]
  },
  {
   "cell_type": "code",
   "execution_count": 6,
   "id": "f359d040",
   "metadata": {},
   "outputs": [
    {
     "data": {
      "application/vnd.jupyter.widget-view+json": {
       "model_id": "91821b0bcaf142959a431778070d72cf",
       "version_major": 2,
       "version_minor": 0
      },
      "text/plain": [
       "Generating train split: 0 examples [00:00, ? examples/s]"
      ]
     },
     "metadata": {},
     "output_type": "display_data"
    }
   ],
   "source": [
    "from datasets import load_dataset\n",
    "dataset = load_dataset('json', data_files='hume_json/essays_in_history.json')"
   ]
  },
  {
   "cell_type": "code",
   "execution_count": 7,
   "id": "acdd4f73",
   "metadata": {},
   "outputs": [
    {
     "data": {
      "text/plain": [
       "{'word_count': 151,\n",
       " 'labels': 4,\n",
       " 'genre': 'history',\n",
       " 'title': 'I',\n",
       " 'text': 'THE CURIOSITY, entertained by all civilized nations, of enquiring into the exploits and adventures of their ancestors, commonly excites a regret that the history of remote ages should always be so much involved in obscurity, uncertainty, and contradiction. Ingenious men, possessed of leisure, are apt to push their researches beyond the period, in which literary monuments are framed or preserved; without reflecting, that the history of past events is immediately lost or disfigured, when intrusted to memory and oral tradition, and that the adventures of barbarous nations, even if they were recorded, could afford little or no entertainment to men born in a more cultivated age. The convulsions of a civilized state usually compose the most instructive and most interesting part of its history; but the sudden, violent, and unprepared revolutions, incident to Barbarians, are so much guided by caprice, and terminate so often in cruelty that they disgust us by'}"
      ]
     },
     "execution_count": 7,
     "metadata": {},
     "output_type": "execute_result"
    }
   ],
   "source": [
    "dataset['train'][0]"
   ]
  }
 ],
 "metadata": {
  "kernelspec": {
   "display_name": "Python [conda env:torch]",
   "language": "python",
   "name": "conda-env-torch-py"
  },
  "language_info": {
   "codemirror_mode": {
    "name": "ipython",
    "version": 3
   },
   "file_extension": ".py",
   "mimetype": "text/x-python",
   "name": "python",
   "nbconvert_exporter": "python",
   "pygments_lexer": "ipython3",
   "version": "3.11.5"
  }
 },
 "nbformat": 4,
 "nbformat_minor": 5
}
