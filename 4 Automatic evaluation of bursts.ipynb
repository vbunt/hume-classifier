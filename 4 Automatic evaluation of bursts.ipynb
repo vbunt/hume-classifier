{
 "cells": [
  {
   "cell_type": "code",
   "execution_count": 1,
   "id": "49956215",
   "metadata": {},
   "outputs": [],
   "source": [
    "import pandas as pd"
   ]
  },
  {
   "cell_type": "code",
   "execution_count": 2,
   "id": "9ff2bee2",
   "metadata": {},
   "outputs": [
    {
     "name": "stderr",
     "output_type": "stream",
     "text": [
      "/tmp/ipykernel_4191/3488037551.py:3: SettingWithCopyWarning: \n",
      "A value is trying to be set on a copy of a slice from a DataFrame.\n",
      "Try using .loc[row_indexer,col_indexer] = value instead\n",
      "\n",
      "See the caveats in the documentation: https://pandas.pydata.org/pandas-docs/stable/user_guide/indexing.html#returning-a-view-versus-a-copy\n",
      "  history['par_num'] = [i for i in range(1, len(history)+1)]\n"
     ]
    }
   ],
   "source": [
    "data = pd.read_json('all.json')\n",
    "history = data[data.genre == 'history']\n",
    "history['par_num'] = [i for i in range(1, len(history)+1)]"
   ]
  },
  {
   "cell_type": "code",
   "execution_count": 3,
   "id": "cb5eb43d",
   "metadata": {},
   "outputs": [
    {
     "name": "stderr",
     "output_type": "stream",
     "text": [
      "/tmp/ipykernel_4191/1082374903.py:3: SettingWithCopyWarning: \n",
      "A value is trying to be set on a copy of a slice from a DataFrame.\n",
      "Try using .loc[row_indexer,col_indexer] = value instead\n",
      "\n",
      "See the caveats in the documentation: https://pandas.pydata.org/pandas-docs/stable/user_guide/indexing.html#returning-a-view-versus-a-copy\n",
      "  bursts_['full_paragraph_number'] = bursts_['full_paragraph_number'] + 1\n"
     ]
    }
   ],
   "source": [
    "bursts = pd.read_csv('extracted_bursts_full_transformer.csv')\n",
    "bursts_ = bursts[['full_paragraph_number', 'burst_len']]\n",
    "bursts_['full_paragraph_number'] = bursts_['full_paragraph_number'] + 1\n",
    "starting_paragraph = list(bursts_['full_paragraph_number'])\n",
    "burst_len = list(bursts_['burst_len'])\n",
    "\n",
    "interesting_paragraphs = []\n",
    "for s, l in zip(starting_paragraph, burst_len):\n",
    "    interesting_paragraphs.extend([s + i for i in range(l)])"
   ]
  },
  {
   "cell_type": "code",
   "execution_count": 4,
   "id": "99a38ca2",
   "metadata": {},
   "outputs": [],
   "source": [
    "eh = pd.read_json('hume_json/essays_in_history.json')\n",
    "joined = eh.set_index('text').join(history.set_index('text'), lsuffix='_eh', rsuffix='_his')"
   ]
  },
  {
   "cell_type": "code",
   "execution_count": 5,
   "id": "5d712cc4",
   "metadata": {},
   "outputs": [],
   "source": [
    "# from g sheets\n",
    "fixed = [259, 239, 656, 649, 651, 660, 2730, 17, 1, 485, 3997, 3639,\n",
    "3653,\n",
    "4138,\n",
    "352,\n",
    "373,\n",
    "427,\n",
    "621,\n",
    "709,\n",
    "2980,\n",
    "3008,\n",
    "1308,\n",
    "1459,\n",
    "1496,\n",
    "1499,\n",
    "1486,\n",
    "1739,\n",
    "1730,\n",
    "1616,\n",
    "2194,\n",
    "2246,\n",
    "2260]"
   ]
  },
  {
   "cell_type": "code",
   "execution_count": 6,
   "id": "dc82422b",
   "metadata": {},
   "outputs": [
    {
     "name": "stdout",
     "output_type": "stream",
     "text": [
      "Number of eh paragraphs: 66\n",
      "Number of eh paragraphs in extracted: 57\n",
      "Acc: 0.86\n",
      "Number of extracted paragraphs: 1986\n"
     ]
    }
   ],
   "source": [
    "a = set(joined['par_num'].dropna()) | set(fixed)\n",
    "b = len(a & set(interesting_paragraphs))\n",
    "c = len(set(interesting_paragraphs))\n",
    "print(f'Number of eh paragraphs: {len(a)}')\n",
    "print(f'Number of eh paragraphs in extracted: {b}')\n",
    "print(f'Acc: {b/len(a):.2f}')\n",
    "print(f'Number of extracted paragraphs: {c}')"
   ]
  }
 ],
 "metadata": {
  "kernelspec": {
   "display_name": "Python 3 (ipykernel)",
   "language": "python",
   "name": "python3"
  },
  "language_info": {
   "codemirror_mode": {
    "name": "ipython",
    "version": 3
   },
   "file_extension": ".py",
   "mimetype": "text/x-python",
   "name": "python",
   "nbconvert_exporter": "python",
   "pygments_lexer": "ipython3",
   "version": "3.11.5"
  }
 },
 "nbformat": 4,
 "nbformat_minor": 5
}
