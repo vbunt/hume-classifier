{
 "cells": [
  {
   "cell_type": "code",
   "execution_count": 1,
   "id": "bedb9254",
   "metadata": {},
   "outputs": [],
   "source": [
    "from sklearn.feature_extraction.text import TfidfVectorizer\n",
    "from sklearn.svm import SVC\n",
    "from sklearn.preprocessing import LabelEncoder\n",
    "from sklearn.metrics import accuracy_score, confusion_matrix\n",
    "from utils import import_dataset"
   ]
  },
  {
   "cell_type": "code",
   "execution_count": 2,
   "id": "fc54c214",
   "metadata": {},
   "outputs": [],
   "source": [
    "dataset = import_dataset()"
   ]
  },
  {
   "cell_type": "code",
   "execution_count": 3,
   "id": "53e7f06a",
   "metadata": {},
   "outputs": [
    {
     "data": {
      "text/plain": [
       "DatasetDict({\n",
       "    train: Dataset({\n",
       "        features: ['title', 'genre', 'text', 'labels'],\n",
       "        num_rows: 2476\n",
       "    })\n",
       "    eval: Dataset({\n",
       "        features: ['title', 'genre', 'text', 'labels'],\n",
       "        num_rows: 309\n",
       "    })\n",
       "    test: Dataset({\n",
       "        features: ['title', 'genre', 'text', 'labels'],\n",
       "        num_rows: 310\n",
       "    })\n",
       "})"
      ]
     },
     "execution_count": 3,
     "metadata": {},
     "output_type": "execute_result"
    }
   ],
   "source": [
    "dataset"
   ]
  },
  {
   "cell_type": "code",
   "execution_count": 4,
   "id": "cd1f1374",
   "metadata": {},
   "outputs": [],
   "source": [
    "y_train = dataset['train']['labels']\n",
    "y_test = dataset['test']['labels']"
   ]
  },
  {
   "cell_type": "code",
   "execution_count": 5,
   "id": "6e9ca472",
   "metadata": {},
   "outputs": [
    {
     "name": "stdout",
     "output_type": "stream",
     "text": [
      "Accuracy of model is 73.87096774193549%\n"
     ]
    }
   ],
   "source": [
    "vectorizer = TfidfVectorizer(max_features=5000)\n",
    "x_train = vectorizer.fit_transform(dataset['train']['text'])\n",
    "x_test = vectorizer.transform(dataset['test']['text'])\n",
    "\n",
    "model = SVC()\n",
    "model.fit(x_train,y_train)\n",
    "\n",
    "predictions = model.predict(x_test)\n",
    "print(\"Accuracy of model is {}%\".format(accuracy_score(y_test,predictions) * 100))"
   ]
  },
  {
   "cell_type": "code",
   "execution_count": 6,
   "id": "1eac245b",
   "metadata": {},
   "outputs": [
    {
     "data": {
      "text/plain": [
       "[<matplotlib.axis.YTick at 0x7f19b76d9ae0>,\n",
       " <matplotlib.axis.YTick at 0x7f19b76d9360>,\n",
       " <matplotlib.axis.YTick at 0x7f19b76d83a0>,\n",
       " <matplotlib.axis.YTick at 0x7f19b75bb340>,\n",
       " <matplotlib.axis.YTick at 0x7f19b75f8580>,\n",
       " <matplotlib.axis.YTick at 0x7f19b75f8d60>,\n",
       " <matplotlib.axis.YTick at 0x7f19b75f94b0>]"
      ]
     },
     "execution_count": 6,
     "metadata": {},
     "output_type": "execute_result"
    },
    {
     "data": {
      "image/png": "[encoded data removed]",
      "text/plain": [
       "<Figure size 720x360 with 2 Axes>"
      ]
     },
     "metadata": {
      "needs_background": "light"
     },
     "output_type": "display_data"
    }
   ],
   "source": [
    "import matplotlib.pyplot as plt\n",
    "# from sklearn.datasets import make_classification\n",
    "from sklearn.metrics import confusion_matrix, ConfusionMatrixDisplay\n",
    "\n",
    "classes = ['dialogues', 'dissertation', 'enquiry', 'essay', \n",
    "                         'history', 'political discourses', 'treatise']\n",
    "\n",
    "fig, ax = plt.subplots(figsize=(10, 5))\n",
    "ConfusionMatrixDisplay.from_predictions(y_test, predictions, ax=ax)\n",
    "ax.xaxis.set_ticks([0, 1, 2, 3, 4, 5, 6], classes, rotation=60)\n",
    "ax.yaxis.set_ticks([0, 1, 2, 3, 4, 5, 6], classes)"
   ]
  },
  {
   "cell_type": "code",
   "execution_count": 7,
   "id": "9f01f4c3",
   "metadata": {},
   "outputs": [],
   "source": [
    "# it mostly mistakes essay-like things for essay-like things"
   ]
  },
  {
   "cell_type": "code",
   "execution_count": 8,
   "id": "8169628a",
   "metadata": {},
   "outputs": [
    {
     "name": "stdout",
     "output_type": "stream",
     "text": [
      "history for essay 28\n",
      "{'title': 'LII', 'genre': 'history', 'text': \"It was urged by Hambden's council[, and by his partizans in the nation,]{Va(1754), 217.27: [ ]} that the plea of necessity was in vain introduced into a trial of law; since it was the nature of necessity to abolish all law, and, by irresistible violence, to dissolve all the weaker and more artificial ties of human society. Not only the prince, in cases of extreme distress, is exempted from the ordinary rules of administration: All orders of men are then levelled; and any individual may consult the public safety by any expedient, which his situation enables him to employ. But to produce so violent an effect, and so hazardous to every community, an ordinary danger or difficulty is not sufficient; much less, a necessity, which is merely factitious and pretended. Where the peril is urgent and extreme, it will be palpable to every member of the society; and though all ancient rules of government are in that case abrogated, men will readily, of themselves, submit to that irregular authority, which is exerted for their preservation. But what is there in common between such suppositions, and the present condition of the nation? England enjoys a profound peace with all her neighbours: And what is more, all her neighbours are engaged in furious and bloody wars among themselves, and by their mutual enmities farther ensure her tranquillity. The very writs themselves, which are issued for the levying of ship-money, contradict the supposition of necessity, and pretend only that the seas are infested with pirates; a slight and temporary inconvenience, which may well await a legal supply from parliament. The writs likewise allow several months for equipping the ships; which proves a very calm and deliberate species of necessity, and one that admits of delay much beyond the forty days requisite for summoning that assembly. It is strange too, that an extreme necessity which is always apparent, and usually comes to a sudden crisis, should now have continued, without interruption, for near four years, and should have remained, during so long a time, invisible to the whole kingdom. And as to the pretension, that the king is sole judge of the necessity; what is this but to subject all the privileges of the nation to his arbitrary will and pleasure? To expect that the public will be convinced by such reasoning, must aggravate the general indignation; by adding, to violence against men's persons and their property, so cruel a mockery of their understanding.\", 'labels': 4}\n",
      "\n",
      "essay for history 32\n",
      "{'title': 'Essay 12: Of the Original Contract', 'genre': 'essay', 'text': 'Who shall tell me, whether GERMANICUS or DRUSUS ought to have succeeded to TIBERIUS, had he died, while they were both alive, without naming any of them for his successor? Ought the right of adoption to be received as equivalent to that of blood, in a nation, where it had the same effect in private families, and had already, in two instances, taken place in the public? Ought GERMANICUS to be esteemed the elder son because he was born before DRUSUS; or the younger, because he was adopted after the birth of his brother? Ought the right of the elder to be regarded in a nation, where he had no advantage in the succession of private families? Ought the ROMAN empire at that time to be deemed hereditary, because of two examples; or ought it, even so early, to be regarded as belonging to the stronger or to the present possessor, as being founded on so recent an usurpation?', 'labels': 3}\n",
      "\n",
      "essay for history 151\n",
      "{'title': 'Essay 14: Of the Rise and Progress of the Arts and Sciences', 'genre': 'essay', 'text': \" One of the most particular details of a real dialogue, which we meet with in antiquity, is related by POLYBIUS; when PHILIP, king of MACEDON, a prince of wit and parts, met with TITUS FLAMININUS, one of the politest of the ROMANS, as we learn from PLUTARCH, accompanied with ambassadors from almost all the GREEK cities. The AETOLIAN ambassador very abruptly tells the king, that he talked like a fool or a madman ({lerein}). That's evident, says his majesty, even to a blind man; which was a raillery on the blindness of his excellency. Yet all this did not pass the usual bounds: For the conference was not disturbed; and FLAMININUS was very well diverted with these strokes of humour. At the end, when PHILIP craved a little time to consult with his friends, of whom he had none present, the ROMAN general, being desirous also to shew his wit, as the historian says, tells him, that perhaps the reason, why he had none of his friends with him, was because he had murdered them all; which was actually the case. This unprovoked piece of rusticity is not condemned by the historian; caused no farther resentment in PHILIP, than to excite a SARDONIAN smile, or what we call a grin; and hindered him not from renewing the conference next day. PLUTARCH too mentions this raillery amongst the witty and agreeable sayings of FLAMININUS.\", 'labels': 3}\n",
      "\n",
      "dialogues for history 210\n",
      "{'title': 'Part 10', 'genre': 'dialogues', 'text': \"If you feel not human misery yourself, cried Demea, I congratulate you on so happy a singularity. Others, seemingly the most prosperous, have not been ashamed to vent their complaints in the most melancholy strains. Let us attend to the great, the fortunate emperor, Charles V., when, tired with human grandeur, he resigned all his extensive dominions into the hands of his son. In the last harangue which he made on that memorable occasion, he publicly avowed, that the greatest prosperities which he had ever enjoyed, had been mixed with so many adversities, that he might truly say he had never enjoyed any satisfaction or contentment. But did the retired life, in which he sought for shelter, afford him any greater happiness? If we may credit his son's account, his repentance commenced the very day of his resignation.\", 'labels': 0}\n",
      "\n",
      "history for essay 211\n",
      "{'title': 'LIV', 'genre': 'history', 'text': '\"Where has this species of guilt lain so long concealed?\" said Strafford in conclusion: \"Where has this fire been so long buried, during so many centuries, that no smoke should appear, till it burst out at once, to consume me and my children? Better it were to live under no law at all, and by the maxims of cautious prudence, to conform ourselves the best we can, to the arbitrary will of a master; than fancy we have a law on which we can rely, and find at last, that this law shall inflict a punishment precedent to the promulgation, and try us by maxims unheard of till the very moment of the prosecution. If I sail on the Thames, and split my vessel on an anchor; in case there be no buoy to give warning, the party shall pay me damages: But, if the anchor be marked out, then is the striking on it at my own peril. Where is the mark set upon this crime? Where the token by which I should discover it? It has lain concealed, under water; and no human prudence, no human innocence, could save me from the destruction, with which I am at present threatened.', 'labels': 4}\n",
      "\n",
      "history for essay 214\n",
      "{'title': 'LIV', 'genre': 'history', 'text': 'The whole sovereign power being thus in a manner transferred to the commons, and the government, without any seeming violence or disorder, being changed, in a moment, from a monarchy almost absolute, to a pure democracy; the popular leaders seemed willing for some time to suspend their active vigour, and to consolidate their authority, ere they proceeded to any violent exercise of it. Every day produced some new harangue on past grievances. The detestation of former usurpations, was farther enlivened: The jealousy of liberty rouzed: And agreeably to the spirit of free government, no less indignation was excited, by the view of a violated constitution, than by the ravages of the most enormous tyranny.', 'labels': 4}\n",
      "\n",
      "essay for history 255\n",
      "{'title': 'Essay 12: Of the Original Contract', 'genre': 'essay', 'text': \"The discontent of the Praetorian bands broke out in a sudden sedition, which occasioned the murder of that excellent prince: And the world being now without a master and without government, the guards thought proper to set the empire formally to sale. JULIAN, the purchaser, was proclaimed by the soldiers, recognized by the senate, and submitted to by the people; and must also have been submitted to by the provinces, had not the envy of the legions begotten opposition and resistance. PESCENNIUS NIGER in SYRIA elected himself emperor, gained the tumultuary consent of his army, and was attended with the secret good-will of the senate and people of ROME. ALBINUS in BRITAIN found an equal right to set up his claim; but SEVERUS, who governed PANNONIA, prevailed in the end above both of them. That able politician and warrior, finding his own birth and dignity too much inferior to the imperial crown, professed, at first, an intention only of revenging the death of PERTINAX. He marched as general into ITALY; defeated JULIAN; and without our being able to fix any precise commencement even of the soldiers' consent, he was from necessity acknowledged emperor by the senate and people; and fully established in his violent authority by subduing NIGER and ALBINUS.\", 'labels': 3}\n",
      "\n",
      "dissertation for history 294\n",
      "{'title': 'Section 10: With regard to Courage or Abasement', 'genre': 'dissertation', 'text': 'One great incitement to the pious ALEXANDER in his warlike expeditions was his rivalship of HERCULES and BACCHUS, whom he justly pretended to have excelled. BRASIDAS, that generous and noble SPARTAN, after falling in battle, had heroic honours paid him by the inhabitants of AMPHIPOLIS, whose defence he had embraced. And in general, all founders of states and colonies among the GREEKS were raised to this inferior rank of divinity, by those who reaped the benefit of their labours.', 'labels': 1}\n",
      "\n"
     ]
    }
   ],
   "source": [
    "# mistakes concerning history\n",
    "\n",
    "for i in range(len(y_test)):\n",
    "    t = y_test[i]\n",
    "    p = predictions[i]\n",
    "    \n",
    "    if t == 4 and p != 4:\n",
    "        print(f'history for {classes[p]}', i)\n",
    "        print(dataset['test'][i])\n",
    "        print()\n",
    "    elif p == 4 and t != 4:\n",
    "        print(f'{classes[t]} for history', i)\n",
    "        print(dataset['test'][i])\n",
    "        print()\n",
    "    "
   ]
  }
 ],
 "metadata": {
  "kernelspec": {
   "display_name": "Python 3 (ipykernel)",
   "language": "python",
   "name": "python3"
  },
  "language_info": {
   "codemirror_mode": {
    "name": "ipython",
    "version": 3
   },
   "file_extension": ".py",
   "mimetype": "text/x-python",
   "name": "python",
   "nbconvert_exporter": "python",
   "pygments_lexer": "ipython3",
   "version": "3.10.12"
  }
 },
 "nbformat": 4,
 "nbformat_minor": 5
}
