{
 "cells": [
  {
   "cell_type": "code",
   "execution_count": 1,
   "id": "dba449f6",
   "metadata": {},
   "outputs": [],
   "source": [
    "import json\n",
    "import pandas as pd"
   ]
  },
  {
   "cell_type": "code",
   "execution_count": 2,
   "id": "2e047b71",
   "metadata": {},
   "outputs": [],
   "source": [
    "df = pd.read_json('all_raw.json')"
   ]
  },
  {
   "cell_type": "code",
   "execution_count": 3,
   "id": "4ff1d158",
   "metadata": {},
   "outputs": [],
   "source": [
    "df['better_genre'] = df['genre']"
   ]
  },
  {
   "cell_type": "code",
   "execution_count": 4,
   "id": "0de181b7",
   "metadata": {},
   "outputs": [
    {
     "data": {
      "text/html": [
       "<div>\n",
       "<style scoped>\n",
       "    .dataframe tbody tr th:only-of-type {\n",
       "        vertical-align: middle;\n",
       "    }\n",
       "\n",
       "    .dataframe tbody tr th {\n",
       "        vertical-align: top;\n",
       "    }\n",
       "\n",
       "    .dataframe thead th {\n",
       "        text-align: right;\n",
       "    }\n",
       "</style>\n",
       "<table border=\"1\" class=\"dataframe\">\n",
       "  <thead>\n",
       "    <tr style=\"text-align: right;\">\n",
       "      <th></th>\n",
       "      <th>genre</th>\n",
       "      <th>better_genre</th>\n",
       "      <th>title</th>\n",
       "    </tr>\n",
       "  </thead>\n",
       "  <tbody>\n",
       "    <tr>\n",
       "      <th>0</th>\n",
       "      <td>abstract</td>\n",
       "      <td>abstract</td>\n",
       "      <td>An Abstract of A Treatise of Human Nature</td>\n",
       "    </tr>\n",
       "    <tr>\n",
       "      <th>1</th>\n",
       "      <td>dialogues</td>\n",
       "      <td>dialogues</td>\n",
       "      <td>Pamphilus to Hermippus</td>\n",
       "    </tr>\n",
       "    <tr>\n",
       "      <th>2</th>\n",
       "      <td>dialogues</td>\n",
       "      <td>dialogues</td>\n",
       "      <td>Part 1</td>\n",
       "    </tr>\n",
       "    <tr>\n",
       "      <th>3</th>\n",
       "      <td>dialogues</td>\n",
       "      <td>dialogues</td>\n",
       "      <td>Part 2</td>\n",
       "    </tr>\n",
       "    <tr>\n",
       "      <th>4</th>\n",
       "      <td>dialogues</td>\n",
       "      <td>dialogues</td>\n",
       "      <td>Part 3</td>\n",
       "    </tr>\n",
       "    <tr>\n",
       "      <th>...</th>\n",
       "      <td>...</td>\n",
       "      <td>...</td>\n",
       "      <td>...</td>\n",
       "    </tr>\n",
       "    <tr>\n",
       "      <th>272</th>\n",
       "      <td>treatise</td>\n",
       "      <td>treatise</td>\n",
       "      <td>SECTION II: OF GREATNESS OF MIND</td>\n",
       "    </tr>\n",
       "    <tr>\n",
       "      <th>273</th>\n",
       "      <td>treatise</td>\n",
       "      <td>treatise</td>\n",
       "      <td>SECTION III: OF GOODNESS AND BENEVOLENCE</td>\n",
       "    </tr>\n",
       "    <tr>\n",
       "      <th>274</th>\n",
       "      <td>treatise</td>\n",
       "      <td>treatise</td>\n",
       "      <td>SECTION IV: OF NATURAL ABILITIES</td>\n",
       "    </tr>\n",
       "    <tr>\n",
       "      <th>275</th>\n",
       "      <td>treatise</td>\n",
       "      <td>treatise</td>\n",
       "      <td>SECTION V: SOME FURTHER REFLECTIONS CONCERNING...</td>\n",
       "    </tr>\n",
       "    <tr>\n",
       "      <th>276</th>\n",
       "      <td>treatise</td>\n",
       "      <td>treatise</td>\n",
       "      <td>SECTION VI: CONCLUSION OF THIS BOOK</td>\n",
       "    </tr>\n",
       "  </tbody>\n",
       "</table>\n",
       "<p>277 rows × 3 columns</p>\n",
       "</div>"
      ],
      "text/plain": [
       "         genre better_genre                                              title\n",
       "0     abstract     abstract          An Abstract of A Treatise of Human Nature\n",
       "1    dialogues    dialogues                             Pamphilus to Hermippus\n",
       "2    dialogues    dialogues                                             Part 1\n",
       "3    dialogues    dialogues                                             Part 2\n",
       "4    dialogues    dialogues                                             Part 3\n",
       "..         ...          ...                                                ...\n",
       "272   treatise     treatise                   SECTION II: OF GREATNESS OF MIND\n",
       "273   treatise     treatise           SECTION III: OF GOODNESS AND BENEVOLENCE\n",
       "274   treatise     treatise                   SECTION IV: OF NATURAL ABILITIES\n",
       "275   treatise     treatise  SECTION V: SOME FURTHER REFLECTIONS CONCERNING...\n",
       "276   treatise     treatise                SECTION VI: CONCLUSION OF THIS BOOK\n",
       "\n",
       "[277 rows x 3 columns]"
      ]
     },
     "execution_count": 4,
     "metadata": {},
     "output_type": "execute_result"
    }
   ],
   "source": [
    "df[['genre', 'better_genre', 'title']]"
   ]
  },
  {
   "cell_type": "markdown",
   "id": "cb0714e4",
   "metadata": {},
   "source": [
    "### Update genres according to the [sheets](https://docs.google.com/spreadsheets/d/1X5IdzFhdN8_d7km_vE9wQva9csbVFbyqjOt-trZPj7U/edit?gid=1489902570#gid=1489902570)"
   ]
  },
  {
   "cell_type": "code",
   "execution_count": 5,
   "id": "b706a9a7",
   "metadata": {},
   "outputs": [],
   "source": [
    "df.loc[df.genre == 'enquiry PoM', 'better_genre'] = 'enquiry'\n",
    "df.loc[df.genre == 'enquiry HU', 'better_genre'] = 'enquiry'\n",
    "df.loc[df.genre == 'natural history', 'better_genre'] = 'dissertation'"
   ]
  },
  {
   "cell_type": "code",
   "execution_count": 6,
   "id": "4225f2f9",
   "metadata": {},
   "outputs": [],
   "source": [
    "df.loc[df.title == 'Essay 22: Of Tragedy', 'better_genre'] = 'dissertation'\n",
    "df.loc[df.title == 'Essay 23: Of the Standard of Taste', 'better_genre'] = 'dissertation'\n",
    "\n",
    "df.loc[df.title == 'Essay 1: Of Commerce', 'better_genre'] = 'political discourses'\n",
    "df.loc[df.title == 'Essay 2: Of Refinement in the Arts', 'better_genre'] = 'political discourses'\n",
    "df.loc[df.title == 'Essay 3: Of Money', 'better_genre'] = 'political discourses'\n",
    "df.loc[df.title == 'Essay 4: Of Interest', 'better_genre'] = 'political discourses'\n",
    "df.loc[df.title == 'Essay 5: Of the Balance of Trade', 'better_genre'] = 'political discourses'\n",
    "df.loc[df.title == 'Essay 7: Of the Balance of Power', 'better_genre'] = 'political discourses'\n",
    "df.loc[df.title == 'Essay 8: Of Taxes', 'better_genre'] = 'political discourses'\n",
    "df.loc[df.title == 'Essay 9: Of Public Credit', 'better_genre'] = 'political discourses'\n",
    "df.loc[df.title == 'Essay 10: Of Some Remarkable Customs', 'better_genre'] = 'political discourses'\n",
    "df.loc[df.title == 'Essay 11: Of the Populousness of Ancient Nations', 'better_genre'] = 'political discourses'\n",
    "df.loc[df.title == 'Essay 15: Of the Protestant Succession', 'better_genre'] = 'political discourses'\n",
    "df.loc[df.title == 'Essay 16: Idea of a Perfect Commonwealth', 'better_genre'] = 'political discourses'"
   ]
  },
  {
   "cell_type": "code",
   "execution_count": 7,
   "id": "ed3ccbd4",
   "metadata": {},
   "outputs": [],
   "source": [
    "df = df.drop(columns=['genre'])"
   ]
  },
  {
   "cell_type": "code",
   "execution_count": 8,
   "id": "f1ef3abb",
   "metadata": {},
   "outputs": [],
   "source": [
    "df = df.rename(columns={'better_genre':'genre'})"
   ]
  },
  {
   "cell_type": "code",
   "execution_count": 9,
   "id": "38611169",
   "metadata": {},
   "outputs": [
    {
     "data": {
      "text/plain": [
       "{'abstract',\n",
       " 'dialogues',\n",
       " 'dissertation',\n",
       " 'enquiry',\n",
       " 'essay',\n",
       " 'history',\n",
       " 'letter',\n",
       " 'political discourses',\n",
       " 'treatise'}"
      ]
     },
     "execution_count": 9,
     "metadata": {},
     "output_type": "execute_result"
    }
   ],
   "source": [
    "set(df['genre'])"
   ]
  },
  {
   "cell_type": "markdown",
   "id": "99d7d83e",
   "metadata": {},
   "source": [
    "### Add integer labels for genres"
   ]
  },
  {
   "cell_type": "code",
   "execution_count": 10,
   "id": "c87629d8",
   "metadata": {},
   "outputs": [],
   "source": [
    "labels_list = ['dialogues', 'dissertation', 'enquiry', 'essay', \n",
    "               'history', 'political discourses', 'treatise', 'letter', \n",
    "               'abstract']\n",
    "\n",
    "labels_dict = {'dialogues': 0,\n",
    "               'dissertation':1,\n",
    "               'enquiry': 2,\n",
    "               'essay': 3, \n",
    "               'history': 4,\n",
    "               'political discourses': 5,\n",
    "               'treatise': 6,\n",
    "               'letter': 7,\n",
    "               'abstract': 8}\n",
    "\n",
    "def apply_label(value):\n",
    "    return labels_dict[value]\n",
    "\n",
    "df['labels'] = df['genre'].apply(apply_label)"
   ]
  },
  {
   "cell_type": "code",
   "execution_count": 11,
   "id": "8d6f5b10",
   "metadata": {},
   "outputs": [
    {
     "data": {
      "text/plain": [
       "{0, 1, 2, 3, 4, 5, 6, 7, 8}"
      ]
     },
     "execution_count": 11,
     "metadata": {},
     "output_type": "execute_result"
    }
   ],
   "source": [
    "set(df['labels'])"
   ]
  },
  {
   "cell_type": "code",
   "execution_count": 12,
   "id": "8d546732",
   "metadata": {},
   "outputs": [],
   "source": [
    "df.to_json('all_updGenres.json', orient='records')"
   ]
  },
  {
   "cell_type": "markdown",
   "id": "478d07ec",
   "metadata": {},
   "source": [
    "### Each paragraph to its own line"
   ]
  },
  {
   "cell_type": "code",
   "execution_count": 13,
   "id": "8e732fe3",
   "metadata": {},
   "outputs": [],
   "source": [
    "# easier to do in json\n",
    "with open('all_updGenres.json', 'r') as file:\n",
    "    data = json.load(file)"
   ]
  },
  {
   "cell_type": "code",
   "execution_count": 14,
   "id": "b8b7e59c",
   "metadata": {},
   "outputs": [],
   "source": [
    "jdict = []\n",
    "\n",
    "for row in data:\n",
    "    title = row['title']\n",
    "    genre = row['genre']\n",
    "    label = row['labels']\n",
    "    for par in row['text']:\n",
    "        small_dict = {'title':title,\n",
    "                      'genre':genre,\n",
    "                      'text':par,\n",
    "                      'labels':label}\n",
    "        jdict.append(small_dict)"
   ]
  },
  {
   "cell_type": "code",
   "execution_count": 15,
   "id": "1617df48",
   "metadata": {},
   "outputs": [
    {
     "data": {
      "text/plain": [
       "8576"
      ]
     },
     "execution_count": 15,
     "metadata": {},
     "output_type": "execute_result"
    }
   ],
   "source": [
    "len(jdict)"
   ]
  },
  {
   "cell_type": "code",
   "execution_count": 16,
   "id": "1f81b881",
   "metadata": {},
   "outputs": [
    {
     "data": {
      "text/plain": [
       "{'title': 'Essay 16: Idea of a Perfect Commonwealth',\n",
       " 'genre': 'political discourses',\n",
       " 'text': 'In the commonwealth, no representative, magistrate, or senator, as such, has any salary. The protector, secretaries, councils, and ambassadors, have salaries.',\n",
       " 'labels': 5}"
      ]
     },
     "execution_count": 16,
     "metadata": {},
     "output_type": "execute_result"
    }
   ],
   "source": [
    "jdict[2000]"
   ]
  },
  {
   "cell_type": "code",
   "execution_count": 17,
   "id": "140a6094",
   "metadata": {},
   "outputs": [],
   "source": [
    "with open('all.json', 'w') as file:\n",
    "    json.dump(jdict, file, indent=3)"
   ]
  }
 ],
 "metadata": {
  "kernelspec": {
   "display_name": "Python 3 (ipykernel)",
   "language": "python",
   "name": "python3"
  },
  "language_info": {
   "codemirror_mode": {
    "name": "ipython",
    "version": 3
   },
   "file_extension": ".py",
   "mimetype": "text/x-python",
   "name": "python",
   "nbconvert_exporter": "python",
   "pygments_lexer": "ipython3",
   "version": "3.11.5"
  }
 },
 "nbformat": 4,
 "nbformat_minor": 5
}
