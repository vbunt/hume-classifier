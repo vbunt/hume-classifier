{
 "cells": [
  {
   "cell_type": "code",
   "execution_count": 1,
   "id": "b0941653",
   "metadata": {},
   "outputs": [],
   "source": [
    "import pandas as pd"
   ]
  },
  {
   "cell_type": "code",
   "execution_count": 2,
   "id": "96246e39",
   "metadata": {},
   "outputs": [],
   "source": [
    "df = pd.read_json('all.json')"
   ]
  },
  {
   "cell_type": "code",
   "execution_count": 3,
   "id": "848ad5ca",
   "metadata": {},
   "outputs": [
    {
     "data": {
      "text/html": [
       "<div>\n",
       "<style scoped>\n",
       "    .dataframe tbody tr th:only-of-type {\n",
       "        vertical-align: middle;\n",
       "    }\n",
       "\n",
       "    .dataframe tbody tr th {\n",
       "        vertical-align: top;\n",
       "    }\n",
       "\n",
       "    .dataframe thead th {\n",
       "        text-align: right;\n",
       "    }\n",
       "</style>\n",
       "<table border=\"1\" class=\"dataframe\">\n",
       "  <thead>\n",
       "    <tr style=\"text-align: right;\">\n",
       "      <th></th>\n",
       "      <th>text</th>\n",
       "    </tr>\n",
       "    <tr>\n",
       "      <th>genre</th>\n",
       "      <th></th>\n",
       "    </tr>\n",
       "  </thead>\n",
       "  <tbody>\n",
       "    <tr>\n",
       "      <th>abstract</th>\n",
       "      <td>40</td>\n",
       "    </tr>\n",
       "    <tr>\n",
       "      <th>dialogues</th>\n",
       "      <td>239</td>\n",
       "    </tr>\n",
       "    <tr>\n",
       "      <th>dissertation</th>\n",
       "      <td>318</td>\n",
       "    </tr>\n",
       "    <tr>\n",
       "      <th>enquiry</th>\n",
       "      <td>632</td>\n",
       "    </tr>\n",
       "    <tr>\n",
       "      <th>essay</th>\n",
       "      <td>555</td>\n",
       "    </tr>\n",
       "    <tr>\n",
       "      <th>history</th>\n",
       "      <td>5045</td>\n",
       "    </tr>\n",
       "    <tr>\n",
       "      <th>letter</th>\n",
       "      <td>46</td>\n",
       "    </tr>\n",
       "    <tr>\n",
       "      <th>political discourses</th>\n",
       "      <td>483</td>\n",
       "    </tr>\n",
       "    <tr>\n",
       "      <th>treatise</th>\n",
       "      <td>1218</td>\n",
       "    </tr>\n",
       "  </tbody>\n",
       "</table>\n",
       "</div>"
      ],
      "text/plain": [
       "                      text\n",
       "genre                     \n",
       "abstract                40\n",
       "dialogues              239\n",
       "dissertation           318\n",
       "enquiry                632\n",
       "essay                  555\n",
       "history               5045\n",
       "letter                  46\n",
       "political discourses   483\n",
       "treatise              1218"
      ]
     },
     "execution_count": 3,
     "metadata": {},
     "output_type": "execute_result"
    }
   ],
   "source": [
    "# number of samples for each genre\n",
    "df.groupby(['genre'])[['text']].count()"
   ]
  },
  {
   "cell_type": "markdown",
   "id": "ab41e712",
   "metadata": {},
   "source": [
    "### Choose only some of the samples"
   ]
  },
  {
   "cell_type": "markdown",
   "id": "4c4a970c",
   "metadata": {},
   "source": [
    "#### This part is implemented as *import_dataset* function in *utils*"
   ]
  },
  {
   "cell_type": "code",
   "execution_count": 4,
   "id": "7e9ad717",
   "metadata": {},
   "outputs": [],
   "source": [
    "# ignore abstract, letter\n",
    "# take all dialogues, dissertation, essays, political discourses\n",
    "# choose 500 random paragraphs from history, treatise, enquiry\n",
    "\n",
    "history_dataset = df[df.genre=='history'].sample(n=500, random_state=13)\n",
    "treatise_dataset = df[df.genre=='treatise'].sample(n=500, random_state=13)\n",
    "enquiry_dataset = df[df.genre=='enquiry'].sample(n=500, random_state=13)\n",
    "\n",
    "dialogues_dataset = df[df.genre=='dialogues']\n",
    "dissertation_dataset = df[df.genre=='dissertation']\n",
    "essay_dataset = df[df.genre=='essay']\n",
    "discourses_dataset = df[df.genre=='political discourses']"
   ]
  },
  {
   "cell_type": "code",
   "execution_count": 5,
   "id": "728a7669",
   "metadata": {},
   "outputs": [],
   "source": [
    "# concatenate all datasets into one\n",
    "\n",
    "combined_dataset = pd.concat([history_dataset, \n",
    "                    treatise_dataset, \n",
    "                    dialogues_dataset, \n",
    "                    dissertation_dataset, \n",
    "                    essay_dataset,\n",
    "                    enquiry_dataset,\n",
    "                    discourses_dataset], ignore_index=True)"
   ]
  },
  {
   "cell_type": "markdown",
   "id": "88abf6f4",
   "metadata": {},
   "source": [
    "### Let's look inside"
   ]
  },
  {
   "cell_type": "code",
   "execution_count": 6,
   "id": "3446fbee",
   "metadata": {},
   "outputs": [],
   "source": [
    "# count tokens in each sample\n",
    "\n",
    "def count_tokens(value):\n",
    "    return len(value.split())\n",
    "\n",
    "combined_dataset['len_sample'] = df['text'].apply(count_tokens)"
   ]
  },
  {
   "cell_type": "code",
   "execution_count": 8,
   "id": "8955f412",
   "metadata": {},
   "outputs": [
    {
     "data": {
      "text/plain": [
       "<AxesSubplot:xlabel='genre'>"
      ]
     },
     "execution_count": 8,
     "metadata": {},
     "output_type": "execute_result"
    },
    {
     "data": {
      "image/png": "[encoded data removed]",
      "text/plain": [
       "<Figure size 432x288 with 1 Axes>"
      ]
     },
     "metadata": {
      "needs_background": "light"
     },
     "output_type": "display_data"
    }
   ],
   "source": [
    "# number of tokens by genre\n",
    "\n",
    "combined_dataset.groupby(['genre'])[['len_sample']].sum('len_sample').plot.bar(rot=0)"
   ]
  },
  {
   "cell_type": "code",
   "execution_count": 10,
   "id": "d8218448",
   "metadata": {},
   "outputs": [
    {
     "data": {
      "text/plain": [
       "<AxesSubplot:xlabel='genre'>"
      ]
     },
     "execution_count": 10,
     "metadata": {},
     "output_type": "execute_result"
    },
    {
     "data": {
      "image/png": "[encoded data removed]",
      "text/plain": [
       "<Figure size 432x288 with 1 Axes>"
      ]
     },
     "metadata": {
      "needs_background": "light"
     },
     "output_type": "display_data"
    }
   ],
   "source": [
    "# number of samples by genre\n",
    "\n",
    "combined_dataset.groupby('genre')[['text']].count().plot.bar(rot=0)"
   ]
  },
  {
   "cell_type": "markdown",
   "id": "0b4ad7d8",
   "metadata": {},
   "source": [
    "### Wrapping it into a HF Dataset structure"
   ]
  },
  {
   "cell_type": "code",
   "execution_count": 11,
   "id": "6f6edb02",
   "metadata": {},
   "outputs": [],
   "source": [
    "from datasets import Dataset, DatasetDict"
   ]
  },
  {
   "cell_type": "code",
   "execution_count": 12,
   "id": "fb64789d",
   "metadata": {},
   "outputs": [],
   "source": [
    "unsplit_dataset = Dataset.from_pandas(combined_dataset)\n",
    "\n",
    "train_test_dataset = unsplit_dataset.train_test_split(test_size=0.2, shuffle=True, seed=13)\n",
    "\n",
    "test_eval_dataset = train_test_dataset['test'].train_test_split(test_size=0.5, shuffle=True, seed=13)\n",
    "\n",
    "\n",
    "dataset = DatasetDict({'train' : train_test_dataset['train'], \n",
    "                       'eval' : test_eval_dataset['train'],\n",
    "                       'test' : test_eval_dataset['test']})"
   ]
  },
  {
   "cell_type": "markdown",
   "id": "630120bd",
   "metadata": {},
   "source": [
    "#### A look inside the split"
   ]
  },
  {
   "cell_type": "code",
   "execution_count": 13,
   "id": "1fae8ad3",
   "metadata": {},
   "outputs": [],
   "source": [
    "from collections import Counter"
   ]
  },
  {
   "cell_type": "code",
   "execution_count": 14,
   "id": "64d73f6e",
   "metadata": {},
   "outputs": [
    {
     "data": {
      "text/plain": [
       "[('essay', 430),\n",
       " ('enquiry', 412),\n",
       " ('treatise', 408),\n",
       " ('history', 395),\n",
       " ('political discourses', 382),\n",
       " ('dissertation', 250),\n",
       " ('dialogues', 199)]"
      ]
     },
     "execution_count": 14,
     "metadata": {},
     "output_type": "execute_result"
    }
   ],
   "source": [
    "Counter(dataset['train']['genre']).most_common()"
   ]
  },
  {
   "cell_type": "code",
   "execution_count": 15,
   "id": "d0782b7a",
   "metadata": {},
   "outputs": [
    {
     "data": {
      "text/plain": [
       "[('essay', 63),\n",
       " ('history', 60),\n",
       " ('political discourses', 49),\n",
       " ('treatise', 45),\n",
       " ('enquiry', 43),\n",
       " ('dissertation', 33),\n",
       " ('dialogues', 17)]"
      ]
     },
     "execution_count": 15,
     "metadata": {},
     "output_type": "execute_result"
    }
   ],
   "source": [
    "Counter(dataset['test']['genre']).most_common()"
   ]
  },
  {
   "cell_type": "code",
   "execution_count": 16,
   "id": "4876244b",
   "metadata": {},
   "outputs": [
    {
     "data": {
      "text/plain": [
       "[('essay', 62),\n",
       " ('political discourses', 52),\n",
       " ('treatise', 47),\n",
       " ('history', 45),\n",
       " ('enquiry', 45),\n",
       " ('dissertation', 35),\n",
       " ('dialogues', 23)]"
      ]
     },
     "execution_count": 16,
     "metadata": {},
     "output_type": "execute_result"
    }
   ],
   "source": [
    "Counter(dataset['eval']['genre']).most_common()"
   ]
  },
  {
   "cell_type": "code",
   "execution_count": null,
   "id": "f5ee024d",
   "metadata": {},
   "outputs": [],
   "source": []
  }
 ],
 "metadata": {
  "kernelspec": {
   "display_name": "Python 3 (ipykernel)",
   "language": "python",
   "name": "python3"
  },
  "language_info": {
   "codemirror_mode": {
    "name": "ipython",
    "version": 3
   },
   "file_extension": ".py",
   "mimetype": "text/x-python",
   "name": "python",
   "nbconvert_exporter": "python",
   "pygments_lexer": "ipython3",
   "version": "3.10.12"
  }
 },
 "nbformat": 4,
 "nbformat_minor": 5
}
