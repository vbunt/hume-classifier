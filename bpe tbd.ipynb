{
 "cells": [
  {
   "cell_type": "code",
   "execution_count": 1,
   "id": "cfb1480f",
   "metadata": {},
   "outputs": [],
   "source": [
    "from utils import import_dataset\n",
    "\n",
    "from tokenizers import Tokenizer\n",
    "from tokenizers.models import BPE\n",
    "tokenizer = Tokenizer(BPE(unk_token=\"[UNK]\"))\n",
    "from tokenizers.trainers import BpeTrainer\n",
    "trainer = BpeTrainer(special_tokens=[\"[UNK]\", \"[CLS]\", \"[SEP]\", \"[PAD]\", \"[MASK]\"], vocab_size=30000)\n",
    "\n",
    "# from tokenizers.pre_tokenizers import Whitespace # this is a lot more interesting\n",
    "# tokenizer.pre_tokenizer = Whitespace()"
   ]
  },
  {
   "cell_type": "code",
   "execution_count": 5,
   "id": "3d98db0f",
   "metadata": {},
   "outputs": [],
   "source": [
    "dataset = import_dataset(13, history_data='automatic')\n",
    "\n",
    "y_train = dataset['train']['labels']\n",
    "y_test = dataset['test']['labels']\n",
    "\n",
    "x_train = dataset['train']['text']  \n",
    "x_test = dataset['test']['text']"
   ]
  },
  {
   "cell_type": "code",
   "execution_count": 6,
   "id": "82050b67",
   "metadata": {},
   "outputs": [
    {
     "name": "stdout",
     "output_type": "stream",
     "text": [
      "\n",
      "\n",
      "\n"
     ]
    }
   ],
   "source": [
    "tokenizer.train_from_iterator(x_train, trainer=trainer)"
   ]
  },
  {
   "cell_type": "code",
   "execution_count": 4,
   "id": "77b94928",
   "metadata": {},
   "outputs": [],
   "source": [
    "r = 'Were the land, which belongs to a convent, bestowed on a nobleman, he would spend its revenue on dogs, horses, grooms, footmen, cooks, and house-maids; and his family would not furnish many more citizens than the convent.'"
   ]
  },
  {
   "cell_type": "code",
   "execution_count": 7,
   "id": "5b5cdbc1",
   "metadata": {
    "collapsed": true
   },
   "outputs": [
    {
     "data": {
      "text/plain": [
       "['As ',\n",
       " \"'\",\n",
       " 't',\n",
       " \"wou'd \",\n",
       " 'be an ',\n",
       " 'un',\n",
       " 'pardonable ',\n",
       " 'N',\n",
       " 'eg',\n",
       " 'lig',\n",
       " 'ence ',\n",
       " 'in an ',\n",
       " 'A',\n",
       " 'mb',\n",
       " 'assador ',\n",
       " 'not to ',\n",
       " 'pay ',\n",
       " 'his ',\n",
       " 'R',\n",
       " 'esp',\n",
       " 'ect',\n",
       " 's to the ',\n",
       " 'S',\n",
       " 'overe',\n",
       " 'ign ',\n",
       " 'of the ',\n",
       " 'St',\n",
       " 'ate ',\n",
       " 'where ',\n",
       " 'he is ',\n",
       " 'commission',\n",
       " \"'d to \",\n",
       " 'reside',\n",
       " '; so ',\n",
       " 'it ',\n",
       " \"wou'd \",\n",
       " 'be ',\n",
       " 'altogether ',\n",
       " 'in',\n",
       " 'excus',\n",
       " 'able ',\n",
       " 'in ',\n",
       " 'me ',\n",
       " 'not to',\n",
       " ' addres',\n",
       " 's ',\n",
       " 'myself',\n",
       " ', with a ',\n",
       " 'particular ',\n",
       " 'R',\n",
       " 'esp',\n",
       " 'ect',\n",
       " ', to the ',\n",
       " 'F',\n",
       " 'air ',\n",
       " 'S',\n",
       " 'ex',\n",
       " ', who are the ',\n",
       " 'S',\n",
       " 'overeign',\n",
       " 's of the ',\n",
       " 'Em',\n",
       " 'pir',\n",
       " 'e of ',\n",
       " 'Conversation',\n",
       " '. I',\n",
       " ' approach',\n",
       " ' them with ',\n",
       " 'R',\n",
       " 'ever',\n",
       " 'ence',\n",
       " '; and were ',\n",
       " 'not ',\n",
       " 'my ',\n",
       " 'Countr',\n",
       " 'y',\n",
       " 'men',\n",
       " ', the ',\n",
       " 'Learn',\n",
       " 'ed',\n",
       " ', a ',\n",
       " 'stub',\n",
       " 'born ',\n",
       " 'independent ',\n",
       " 'R',\n",
       " 'a',\n",
       " 'ce of ',\n",
       " 'M',\n",
       " 'ort',\n",
       " 'als, ',\n",
       " 'extremely ',\n",
       " 'jealous ',\n",
       " 'of their ',\n",
       " 'Libert',\n",
       " 'y, and ',\n",
       " 'un',\n",
       " 'accustom',\n",
       " \"'d to \",\n",
       " 'Sub',\n",
       " 'jection',\n",
       " ', I ',\n",
       " 'sh',\n",
       " 'ou',\n",
       " \"'d \",\n",
       " 'resign ',\n",
       " 'into their ',\n",
       " 'fair ',\n",
       " 'H',\n",
       " 'and',\n",
       " 's',\n",
       " ' the sovereign ',\n",
       " 'A',\n",
       " 'uthor',\n",
       " 'ity ',\n",
       " 'over the ',\n",
       " 'Re',\n",
       " 'public',\n",
       " ' of ',\n",
       " 'Let',\n",
       " 'ter',\n",
       " 's',\n",
       " '. As the ',\n",
       " 'Cas',\n",
       " 'e ',\n",
       " 'stand',\n",
       " 's, ',\n",
       " 'my ',\n",
       " 'Com',\n",
       " 'mis',\n",
       " 'sion ',\n",
       " 'extend',\n",
       " 's no ',\n",
       " 'farther',\n",
       " ', than to ',\n",
       " 'desire a ',\n",
       " 'Le',\n",
       " 'ag',\n",
       " 'ue, ',\n",
       " 'offensive ',\n",
       " 'and ',\n",
       " 'def',\n",
       " 'ensive',\n",
       " ', against ',\n",
       " 'our ',\n",
       " 'common ',\n",
       " 'En',\n",
       " 'em',\n",
       " 'ies',\n",
       " ', against the ',\n",
       " 'En',\n",
       " 'em',\n",
       " 'ies of ',\n",
       " 'Reas',\n",
       " 'on and ',\n",
       " 'Bea',\n",
       " 'ut',\n",
       " 'y, ',\n",
       " 'P',\n",
       " 'e',\n",
       " 'op',\n",
       " 'le of ',\n",
       " 'du',\n",
       " 'll ',\n",
       " 'H',\n",
       " 'ead',\n",
       " 's and ',\n",
       " 'cold ',\n",
       " 'H',\n",
       " 'ear',\n",
       " 't',\n",
       " 's',\n",
       " '. From this ',\n",
       " 'M',\n",
       " 'om',\n",
       " 'ent ',\n",
       " 'let us ',\n",
       " 'pursu',\n",
       " 'e them',\n",
       " ' with the ',\n",
       " 'severest ',\n",
       " 'V',\n",
       " 'en',\n",
       " 'ge',\n",
       " 'ance',\n",
       " ': ',\n",
       " 'Let ',\n",
       " 'no ',\n",
       " 'Qu',\n",
       " 'ar',\n",
       " 'ter ',\n",
       " 'be ',\n",
       " 'given',\n",
       " ', but',\n",
       " ' to those of ',\n",
       " 'sound ',\n",
       " 'Un',\n",
       " 'der',\n",
       " 'standing',\n",
       " 's and ',\n",
       " 'delicate ',\n",
       " 'Aff',\n",
       " 'ection',\n",
       " 's; and',\n",
       " ' these ',\n",
       " 'Character',\n",
       " 's, ',\n",
       " \"'tis\",\n",
       " ' to be ',\n",
       " 'presum',\n",
       " \"'d\",\n",
       " ', we shall',\n",
       " ' always ',\n",
       " 'find ',\n",
       " 'insepar',\n",
       " 'able.']"
      ]
     },
     "execution_count": 7,
     "metadata": {},
     "output_type": "execute_result"
    }
   ],
   "source": [
    "output = tokenizer.encode(x_test[0])\n",
    "output.tokens"
   ]
  },
  {
   "cell_type": "code",
   "execution_count": 8,
   "id": "5484278b",
   "metadata": {},
   "outputs": [],
   "source": [
    "with open('bpe_vocab.txt', 'w') as file:\n",
    "    for key in tokenizer.get_vocab():\n",
    "        file.write(key)\n",
    "        file.write('\\n')"
   ]
  },
  {
   "cell_type": "code",
   "execution_count": 9,
   "id": "16b4532a",
   "metadata": {},
   "outputs": [],
   "source": [
    "tokenizer.save(\"tokenizer-bpe.json\")"
   ]
  },
  {
   "cell_type": "code",
   "execution_count": null,
   "id": "75c4b103",
   "metadata": {},
   "outputs": [],
   "source": []
  },
  {
   "cell_type": "code",
   "execution_count": null,
   "id": "181d827f",
   "metadata": {},
   "outputs": [],
   "source": []
  },
  {
   "cell_type": "code",
   "execution_count": null,
   "id": "336a5bd9",
   "metadata": {},
   "outputs": [],
   "source": []
  },
  {
   "cell_type": "code",
   "execution_count": 2,
   "id": "af67290e",
   "metadata": {},
   "outputs": [],
   "source": [
    "from sklearn.feature_extraction.text import TfidfVectorizer"
   ]
  },
  {
   "cell_type": "code",
   "execution_count": 26,
   "id": "d0e31371",
   "metadata": {},
   "outputs": [],
   "source": [
    "vectorizer = TfidfVectorizer(max_features=5000, tokenizer=tokenizer, lowercase=False)"
   ]
  },
  {
   "cell_type": "code",
   "execution_count": 27,
   "id": "2e2b735e",
   "metadata": {},
   "outputs": [],
   "source": [
    "from utils import import_dataset\n",
    "from sklearn.linear_model import LogisticRegression"
   ]
  },
  {
   "cell_type": "code",
   "execution_count": 28,
   "id": "cc2689d0",
   "metadata": {},
   "outputs": [
    {
     "ename": "NameError",
     "evalue": "name 'collect_dataset' is not defined",
     "output_type": "error",
     "traceback": [
      "\u001b[0;31m---------------------------------------------------------------------------\u001b[0m",
      "\u001b[0;31mNameError\u001b[0m                                 Traceback (most recent call last)",
      "\u001b[0;32m/tmp/ipykernel_1428419/866710051.py\u001b[0m in \u001b[0;36m<module>\u001b[0;34m\u001b[0m\n\u001b[0;32m----> 1\u001b[0;31m \u001b[0mdata\u001b[0m \u001b[0;34m=\u001b[0m \u001b[0mcollect_dataset\u001b[0m\u001b[0;34m(\u001b[0m\u001b[0;36m13\u001b[0m\u001b[0;34m,\u001b[0m \u001b[0mvectorizer\u001b[0m\u001b[0;34m=\u001b[0m\u001b[0mvectorizer\u001b[0m\u001b[0;34m,\u001b[0m \u001b[0mhistory_data\u001b[0m\u001b[0;34m=\u001b[0m\u001b[0;34m'automatic'\u001b[0m\u001b[0;34m)\u001b[0m\u001b[0;34m\u001b[0m\u001b[0;34m\u001b[0m\u001b[0m\n\u001b[0m\u001b[1;32m      2\u001b[0m \u001b[0mlogreg_model\u001b[0m \u001b[0;34m=\u001b[0m \u001b[0mLogisticRegression\u001b[0m\u001b[0;34m(\u001b[0m\u001b[0;34m)\u001b[0m\u001b[0;34m\u001b[0m\u001b[0;34m\u001b[0m\u001b[0m\n\u001b[1;32m      3\u001b[0m \u001b[0mstart\u001b[0m \u001b[0;34m=\u001b[0m \u001b[0mtime\u001b[0m\u001b[0;34m.\u001b[0m\u001b[0mtime\u001b[0m\u001b[0;34m(\u001b[0m\u001b[0;34m)\u001b[0m\u001b[0;34m\u001b[0m\u001b[0;34m\u001b[0m\u001b[0m\n\u001b[1;32m      4\u001b[0m \u001b[0mrun_model\u001b[0m\u001b[0;34m(\u001b[0m\u001b[0mlogreg_model\u001b[0m\u001b[0;34m,\u001b[0m \u001b[0;34m'Logistic Regression'\u001b[0m\u001b[0;34m,\u001b[0m \u001b[0mdata\u001b[0m\u001b[0;34m=\u001b[0m\u001b[0mdata\u001b[0m\u001b[0;34m)\u001b[0m\u001b[0;34m\u001b[0m\u001b[0;34m\u001b[0m\u001b[0m\n\u001b[1;32m      5\u001b[0m \u001b[0mprint\u001b[0m\u001b[0;34m(\u001b[0m\u001b[0;34mf'Training time: {time.time()-start} s'\u001b[0m\u001b[0;34m)\u001b[0m\u001b[0;34m\u001b[0m\u001b[0;34m\u001b[0m\u001b[0m\n",
      "\u001b[0;31mNameError\u001b[0m: name 'collect_dataset' is not defined"
     ]
    }
   ],
   "source": [
    "data = collect_dataset(13, vectorizer=vectorizer, history_data='automatic')\n",
    "logreg_model = LogisticRegression()\n",
    "start = time.time()\n",
    "run_model(logreg_model, 'Logistic Regression', data=data)\n",
    "print(f'Training time: {time.time()-start} s')\n",
    "feature_extraction(logreg_model, vectorizer, 'bpe')"
   ]
  },
  {
   "cell_type": "code",
   "execution_count": 22,
   "id": "6f31513b",
   "metadata": {},
   "outputs": [
    {
     "data": {
      "text/plain": [
       "['Were the ',\n",
       " 'land',\n",
       " ', which ',\n",
       " 'belong',\n",
       " 's to a ',\n",
       " 'conv',\n",
       " 'ent, ',\n",
       " 'bestow',\n",
       " 'ed on a ',\n",
       " 'nobleman',\n",
       " ', he would ',\n",
       " 'sp',\n",
       " 'end ',\n",
       " 'its ',\n",
       " 'revenue ',\n",
       " 'on ',\n",
       " 'dogs, ',\n",
       " 'horses, ',\n",
       " 'gro',\n",
       " 'om',\n",
       " 's, ',\n",
       " 'foot',\n",
       " 'men, ',\n",
       " 'cook',\n",
       " 's, and ',\n",
       " 'house',\n",
       " '-ma',\n",
       " 'id',\n",
       " 's; and ',\n",
       " 'his ',\n",
       " 'family ',\n",
       " 'would not ',\n",
       " 'furnish ',\n",
       " 'many more ',\n",
       " 'citizens',\n",
       " ' than the ',\n",
       " 'convent',\n",
       " '.']"
      ]
     },
     "execution_count": 22,
     "metadata": {},
     "output_type": "execute_result"
    }
   ],
   "source": [
    "output.tokens"
   ]
  },
  {
   "cell_type": "code",
   "execution_count": 31,
   "id": "a27d6b28",
   "metadata": {},
   "outputs": [],
   "source": [
    "dataset = import_dataset(13, history_data='automatic')\n",
    "\n",
    "y_train = dataset['train']['labels']\n",
    "y_test = dataset['test']['labels']\n",
    "\n",
    "x_train = dataset['train']['text']  \n",
    "x_test = dataset['test']['text']"
   ]
  },
  {
   "cell_type": "code",
   "execution_count": 33,
   "id": "593bbf03",
   "metadata": {},
   "outputs": [
    {
     "ename": "AttributeError",
     "evalue": "'tokenizers.Tokenizer' object has no attribute 'tokenize'",
     "output_type": "error",
     "traceback": [
      "\u001b[0;31m---------------------------------------------------------------------------\u001b[0m",
      "\u001b[0;31mAttributeError\u001b[0m                            Traceback (most recent call last)",
      "\u001b[0;32m/tmp/ipykernel_1428419/2425483488.py\u001b[0m in \u001b[0;36m<module>\u001b[0;34m\u001b[0m\n\u001b[0;32m----> 1\u001b[0;31m \u001b[0mtokenizer\u001b[0m\u001b[0;34m.\u001b[0m\u001b[0mtokenize\u001b[0m\u001b[0;34m(\u001b[0m\u001b[0mx_test\u001b[0m\u001b[0;34m)\u001b[0m\u001b[0;34m\u001b[0m\u001b[0;34m\u001b[0m\u001b[0m\n\u001b[0m",
      "\u001b[0;31mAttributeError\u001b[0m: 'tokenizers.Tokenizer' object has no attribute 'tokenize'"
     ]
    }
   ],
   "source": [
    "tokenizer.tokenize(x_test)"
   ]
  }
 ],
 "metadata": {
  "kernelspec": {
   "display_name": "Python 3 (ipykernel)",
   "language": "python",
   "name": "python3"
  },
  "language_info": {
   "codemirror_mode": {
    "name": "ipython",
    "version": 3
   },
   "file_extension": ".py",
   "mimetype": "text/x-python",
   "name": "python",
   "nbconvert_exporter": "python",
   "pygments_lexer": "ipython3",
   "version": "3.11.5"
  }
 },
 "nbformat": 4,
 "nbformat_minor": 5
}
