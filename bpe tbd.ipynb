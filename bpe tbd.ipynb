{
 "cells": [
  {
   "cell_type": "code",
   "execution_count": 17,
   "id": "cfb1480f",
   "metadata": {},
   "outputs": [],
   "source": [
    "from tokenizers import Tokenizer\n",
    "from tokenizers.models import BPE\n",
    "tokenizer = Tokenizer(BPE(unk_token=\"[UNK]\"))\n",
    "from tokenizers.trainers import BpeTrainer\n",
    "trainer = BpeTrainer(special_tokens=[\"[UNK]\", \"[CLS]\", \"[SEP]\", \"[PAD]\", \"[MASK]\"], vocab_size=32000)"
   ]
  },
  {
   "cell_type": "code",
   "execution_count": 9,
   "id": "8e55abc5",
   "metadata": {},
   "outputs": [],
   "source": [
    "from tokenizers.pre_tokenizers import Whitespace\n",
    "tokenizer.pre_tokenizer = Whitespace()"
   ]
  },
  {
   "cell_type": "code",
   "execution_count": 10,
   "id": "1a0c18b0",
   "metadata": {},
   "outputs": [],
   "source": [
    "from utils import import_dataset"
   ]
  },
  {
   "cell_type": "code",
   "execution_count": 25,
   "id": "af67290e",
   "metadata": {},
   "outputs": [],
   "source": [
    "from sklearn.feature_extraction.text import TfidfVectorizer"
   ]
  },
  {
   "cell_type": "code",
   "execution_count": 11,
   "id": "3d98db0f",
   "metadata": {},
   "outputs": [],
   "source": [
    "dataset = import_dataset(13, history_data='automatic')\n",
    "\n",
    "y_train = dataset['train']['labels']\n",
    "y_test = dataset['test']['labels']\n",
    "\n",
    "x_train = dataset['train']['text']  \n",
    "x_test = dataset['test']['text']"
   ]
  },
  {
   "cell_type": "code",
   "execution_count": 18,
   "id": "82050b67",
   "metadata": {},
   "outputs": [
    {
     "name": "stdout",
     "output_type": "stream",
     "text": [
      "\n",
      "\n",
      "\n"
     ]
    }
   ],
   "source": [
    "tokenizer.train_from_iterator(x_train, trainer=trainer)"
   ]
  },
  {
   "cell_type": "code",
   "execution_count": 24,
   "id": "5484278b",
   "metadata": {},
   "outputs": [],
   "source": [
    "with open('bpe_vocab.txt', 'w') as file:\n",
    "    for key in tokenizer.get_vocab():\n",
    "        file.write(key)\n",
    "        file.write('\\n')"
   ]
  },
  {
   "cell_type": "code",
   "execution_count": 21,
   "id": "45c8e454",
   "metadata": {},
   "outputs": [],
   "source": [
    "output = tokenizer.encode('Were the land, which belongs to a convent, bestowed on a nobleman, he would spend its revenue on dogs, horses, grooms, footmen, cooks, and house-maids; and his family would not furnish many more citizens than the convent.')"
   ]
  },
  {
   "cell_type": "code",
   "execution_count": 30,
   "id": "16b4532a",
   "metadata": {},
   "outputs": [],
   "source": [
    "tokenizer.save(\"tokenizer-bpe.json\")"
   ]
  },
  {
   "cell_type": "code",
   "execution_count": 26,
   "id": "d0e31371",
   "metadata": {},
   "outputs": [],
   "source": [
    "vectorizer = TfidfVectorizer(max_features=5000, tokenizer=tokenizer, lowercase=False)"
   ]
  },
  {
   "cell_type": "code",
   "execution_count": 27,
   "id": "2e2b735e",
   "metadata": {},
   "outputs": [],
   "source": [
    "from utils import import_dataset\n",
    "from sklearn.linear_model import LogisticRegression"
   ]
  },
  {
   "cell_type": "code",
   "execution_count": 28,
   "id": "cc2689d0",
   "metadata": {},
   "outputs": [
    {
     "ename": "NameError",
     "evalue": "name 'collect_dataset' is not defined",
     "output_type": "error",
     "traceback": [
      "\u001b[0;31m---------------------------------------------------------------------------\u001b[0m",
      "\u001b[0;31mNameError\u001b[0m                                 Traceback (most recent call last)",
      "\u001b[0;32m/tmp/ipykernel_1428419/866710051.py\u001b[0m in \u001b[0;36m<module>\u001b[0;34m\u001b[0m\n\u001b[0;32m----> 1\u001b[0;31m \u001b[0mdata\u001b[0m \u001b[0;34m=\u001b[0m \u001b[0mcollect_dataset\u001b[0m\u001b[0;34m(\u001b[0m\u001b[0;36m13\u001b[0m\u001b[0;34m,\u001b[0m \u001b[0mvectorizer\u001b[0m\u001b[0;34m=\u001b[0m\u001b[0mvectorizer\u001b[0m\u001b[0;34m,\u001b[0m \u001b[0mhistory_data\u001b[0m\u001b[0;34m=\u001b[0m\u001b[0;34m'automatic'\u001b[0m\u001b[0;34m)\u001b[0m\u001b[0;34m\u001b[0m\u001b[0;34m\u001b[0m\u001b[0m\n\u001b[0m\u001b[1;32m      2\u001b[0m \u001b[0mlogreg_model\u001b[0m \u001b[0;34m=\u001b[0m \u001b[0mLogisticRegression\u001b[0m\u001b[0;34m(\u001b[0m\u001b[0;34m)\u001b[0m\u001b[0;34m\u001b[0m\u001b[0;34m\u001b[0m\u001b[0m\n\u001b[1;32m      3\u001b[0m \u001b[0mstart\u001b[0m \u001b[0;34m=\u001b[0m \u001b[0mtime\u001b[0m\u001b[0;34m.\u001b[0m\u001b[0mtime\u001b[0m\u001b[0;34m(\u001b[0m\u001b[0;34m)\u001b[0m\u001b[0;34m\u001b[0m\u001b[0;34m\u001b[0m\u001b[0m\n\u001b[1;32m      4\u001b[0m \u001b[0mrun_model\u001b[0m\u001b[0;34m(\u001b[0m\u001b[0mlogreg_model\u001b[0m\u001b[0;34m,\u001b[0m \u001b[0;34m'Logistic Regression'\u001b[0m\u001b[0;34m,\u001b[0m \u001b[0mdata\u001b[0m\u001b[0;34m=\u001b[0m\u001b[0mdata\u001b[0m\u001b[0;34m)\u001b[0m\u001b[0;34m\u001b[0m\u001b[0;34m\u001b[0m\u001b[0m\n\u001b[1;32m      5\u001b[0m \u001b[0mprint\u001b[0m\u001b[0;34m(\u001b[0m\u001b[0;34mf'Training time: {time.time()-start} s'\u001b[0m\u001b[0;34m)\u001b[0m\u001b[0;34m\u001b[0m\u001b[0;34m\u001b[0m\u001b[0m\n",
      "\u001b[0;31mNameError\u001b[0m: name 'collect_dataset' is not defined"
     ]
    }
   ],
   "source": [
    "data = collect_dataset(13, vectorizer=vectorizer, history_data='automatic')\n",
    "logreg_model = LogisticRegression()\n",
    "start = time.time()\n",
    "run_model(logreg_model, 'Logistic Regression', data=data)\n",
    "print(f'Training time: {time.time()-start} s')\n",
    "feature_extraction(logreg_model, vectorizer, 'bpe')"
   ]
  },
  {
   "cell_type": "code",
   "execution_count": 22,
   "id": "6f31513b",
   "metadata": {},
   "outputs": [
    {
     "data": {
      "text/plain": [
       "['Were the ',\n",
       " 'land',\n",
       " ', which ',\n",
       " 'belong',\n",
       " 's to a ',\n",
       " 'conv',\n",
       " 'ent, ',\n",
       " 'bestow',\n",
       " 'ed on a ',\n",
       " 'nobleman',\n",
       " ', he would ',\n",
       " 'sp',\n",
       " 'end ',\n",
       " 'its ',\n",
       " 'revenue ',\n",
       " 'on ',\n",
       " 'dogs, ',\n",
       " 'horses, ',\n",
       " 'gro',\n",
       " 'om',\n",
       " 's, ',\n",
       " 'foot',\n",
       " 'men, ',\n",
       " 'cook',\n",
       " 's, and ',\n",
       " 'house',\n",
       " '-ma',\n",
       " 'id',\n",
       " 's; and ',\n",
       " 'his ',\n",
       " 'family ',\n",
       " 'would not ',\n",
       " 'furnish ',\n",
       " 'many more ',\n",
       " 'citizens',\n",
       " ' than the ',\n",
       " 'convent',\n",
       " '.']"
      ]
     },
     "execution_count": 22,
     "metadata": {},
     "output_type": "execute_result"
    }
   ],
   "source": [
    "output.tokens"
   ]
  },
  {
   "cell_type": "code",
   "execution_count": 31,
   "id": "a27d6b28",
   "metadata": {},
   "outputs": [],
   "source": [
    "dataset = import_dataset(13, history_data='automatic')\n",
    "\n",
    "y_train = dataset['train']['labels']\n",
    "y_test = dataset['test']['labels']\n",
    "\n",
    "x_train = dataset['train']['text']  \n",
    "x_test = dataset['test']['text']"
   ]
  },
  {
   "cell_type": "code",
   "execution_count": 33,
   "id": "593bbf03",
   "metadata": {},
   "outputs": [
    {
     "ename": "AttributeError",
     "evalue": "'tokenizers.Tokenizer' object has no attribute 'tokenize'",
     "output_type": "error",
     "traceback": [
      "\u001b[0;31m---------------------------------------------------------------------------\u001b[0m",
      "\u001b[0;31mAttributeError\u001b[0m                            Traceback (most recent call last)",
      "\u001b[0;32m/tmp/ipykernel_1428419/2425483488.py\u001b[0m in \u001b[0;36m<module>\u001b[0;34m\u001b[0m\n\u001b[0;32m----> 1\u001b[0;31m \u001b[0mtokenizer\u001b[0m\u001b[0;34m.\u001b[0m\u001b[0mtokenize\u001b[0m\u001b[0;34m(\u001b[0m\u001b[0mx_test\u001b[0m\u001b[0;34m)\u001b[0m\u001b[0;34m\u001b[0m\u001b[0;34m\u001b[0m\u001b[0m\n\u001b[0m",
      "\u001b[0;31mAttributeError\u001b[0m: 'tokenizers.Tokenizer' object has no attribute 'tokenize'"
     ]
    }
   ],
   "source": [
    "tokenizer.tokenize(x_test)"
   ]
  }
 ],
 "metadata": {
  "kernelspec": {
   "display_name": "Python 3 (ipykernel)",
   "language": "python",
   "name": "python3"
  },
  "language_info": {
   "codemirror_mode": {
    "name": "ipython",
    "version": 3
   },
   "file_extension": ".py",
   "mimetype": "text/x-python",
   "name": "python",
   "nbconvert_exporter": "python",
   "pygments_lexer": "ipython3",
   "version": "3.10.12"
  }
 },
 "nbformat": 4,
 "nbformat_minor": 5
}
