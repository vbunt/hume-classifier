{
 "cells": [
  {
   "cell_type": "code",
   "execution_count": 2,
   "id": "2559c5df",
   "metadata": {},
   "outputs": [],
   "source": [
    "import bs4 as bs\n",
    "import json"
   ]
  },
  {
   "cell_type": "markdown",
   "id": "b0a35868",
   "metadata": {},
   "source": [
    "## Essays"
   ]
  },
  {
   "cell_type": "code",
   "execution_count": 125,
   "id": "5834f275",
   "metadata": {},
   "outputs": [],
   "source": [
    "with open('hume_xml/hume.07.xml', 'r') as file:\n",
    "    file = bs.BeautifulSoup(file.read(), \"xml\")"
   ]
  },
  {
   "cell_type": "code",
   "execution_count": 126,
   "id": "5c21b1ff",
   "metadata": {},
   "outputs": [],
   "source": [
    "chapters = file.find_all('div', type='chapter')"
   ]
  },
  {
   "cell_type": "code",
   "execution_count": null,
   "id": "e0aff2ce",
   "metadata": {},
   "outputs": [],
   "source": [
    "# first 3 are not essays"
   ]
  },
  {
   "cell_type": "code",
   "execution_count": 127,
   "id": "c3852520",
   "metadata": {},
   "outputs": [],
   "source": [
    "j_dict = {'texts':[]}\n",
    "for chapter in chapters[3:]:\n",
    "    \n",
    "    title = chapter.find('head').text\n",
    "    text = [par.text.rstrip('\\n').replace('\\n', ' ') for par in chapter.find('div', type='section').find_all('p')]\n",
    "    \n",
    "    text_dict = {'genre' : 'essay',\n",
    "                'title' : title,\n",
    "                'text' : text}  \n",
    "    j_dict['texts'].append(text_dict)\n",
    "    "
   ]
  },
  {
   "cell_type": "code",
   "execution_count": null,
   "id": "330500c5",
   "metadata": {},
   "outputs": [],
   "source": [
    "# \\u2014 (long dash) does not compute, how to replace"
   ]
  },
  {
   "cell_type": "code",
   "execution_count": 128,
   "id": "84f5109d",
   "metadata": {},
   "outputs": [],
   "source": [
    "with open('essays.json', 'w') as file:\n",
    "    json.dump(j_dict, file, indent=3)"
   ]
  },
  {
   "cell_type": "markdown",
   "id": "acee8728",
   "metadata": {},
   "source": [
    "## History"
   ]
  },
  {
   "cell_type": "code",
   "execution_count": 119,
   "id": "dd37149a",
   "metadata": {},
   "outputs": [],
   "source": [
    "def get_history(volume, j_dict):\n",
    "    print(f'hume_xml/hume.1{volume}.xml')\n",
    "    with open(f'hume_xml/hume.1{volume}.xml', 'r') as file:\n",
    "        file = bs.BeautifulSoup(file.read(), \"xml\")\n",
    "    chapters = file.find_all('div', type='chapter')\n",
    "    for chapter in chapters:\n",
    "\n",
    "        head = chapter.find('head').text.split('\\n')\n",
    "        number = head[0]\n",
    "\n",
    "        text = [par.text.rstrip('\\n').replace('\\n\\n', ' ') for par in chapter.find_all('p', rend=\"tbindent\") if par.parent['type'] != 'footnote' ]\n",
    "\n",
    "        if not text or number == 'Table of Contents' or number == ' An Historian at Work':\n",
    "            continue\n",
    "\n",
    "        text_dict = {'genre' : 'history',\n",
    "                    'title' : number,\n",
    "                    'text' : text}  \n",
    "        j_dict['texts'].append(text_dict)\n",
    "        \n",
    "    return j_dict"
   ]
  },
  {
   "cell_type": "code",
   "execution_count": 120,
   "id": "70a1e2bf",
   "metadata": {},
   "outputs": [
    {
     "name": "stdout",
     "output_type": "stream",
     "text": [
      "hume_xml/hume.11.xml\n",
      "hume_xml/hume.12.xml\n",
      "hume_xml/hume.13.xml\n",
      "hume_xml/hume.14.xml\n",
      "hume_xml/hume.15.xml\n",
      "hume_xml/hume.16.xml\n"
     ]
    }
   ],
   "source": [
    "j_dict = {'texts':[]}\n",
    "for i in range(1, 7):\n",
    "    get_history(i, j_dict)"
   ]
  },
  {
   "cell_type": "code",
   "execution_count": 121,
   "id": "6864521e",
   "metadata": {
    "collapsed": true
   },
   "outputs": [
    {
     "name": "stdout",
     "output_type": "stream",
     "text": [
      "I\n",
      "II\n",
      "III\n",
      "APPENDIX I\n",
      "IV\n",
      "V\n",
      "VI\n",
      "VII\n",
      "VIII \n",
      "IX\n",
      "X\n",
      "XI\n",
      "APPENDIX II\n",
      "XII\n",
      "XIII\n",
      "XIV\n",
      "XV\n",
      "XVI\n",
      "XVII\n",
      "XVIII\n",
      "XIX\n",
      "XX\n",
      "XXI\n",
      "XXII\n",
      "XXIII\n",
      "XXIV\n",
      "XXV\n",
      "XXVI\n",
      "XXVII\n",
      "XXVIII\n",
      "XXIX\n",
      "XXX\n",
      "XXXI\n",
      "XXXII\n",
      "XXXIII\n",
      "XXXIV\n",
      "XXXV\n",
      "XXXVI\n",
      "XXXVII\n",
      "XXXVIII\n",
      "XXXIX\n",
      "XL\n",
      "XLI\n",
      "XLII\n",
      "XLIII\n",
      "XLIV\n",
      "APPENDIX III\n",
      "XLV\n",
      "XLVI\n",
      "XLVII\n",
      "XLVIII\n",
      "XLIX\n",
      "APPENDIX TO THE REIGN OF JAMES I{Va(1754), 116: [note]}^*\n",
      "L\n",
      "LI\n",
      "LII\n",
      "LIII\n",
      "LIV\n",
      "LV\n",
      "LVI\n",
      "LVII\n",
      "LVIII \n",
      "LIX\n",
      "LX\n",
      "LXI\n",
      "LXII\n",
      "LXIII\n",
      "LXIV\n",
      "LXV\n",
      "LXVI\n",
      "LXVII\n",
      "LXVIII\n",
      "LXIX\n",
      "LXX\n",
      "LXXI\n"
     ]
    }
   ],
   "source": [
    "for text in j_dict['texts']:\n",
    "    print(text['title'])"
   ]
  },
  {
   "cell_type": "code",
   "execution_count": 122,
   "id": "493a73b7",
   "metadata": {},
   "outputs": [
    {
     "data": {
      "text/plain": [
       "75"
      ]
     },
     "execution_count": 122,
     "metadata": {},
     "output_type": "execute_result"
    }
   ],
   "source": [
    "len(j_dict['texts'])"
   ]
  },
  {
   "cell_type": "code",
   "execution_count": 124,
   "id": "d8c1765d",
   "metadata": {},
   "outputs": [],
   "source": [
    "with open('history.json', 'w') as file:\n",
    "    json.dump(j_dict, file, indent=3)"
   ]
  },
  {
   "cell_type": "markdown",
   "id": "09d280e5",
   "metadata": {},
   "source": [
    "## Treatise"
   ]
  },
  {
   "cell_type": "code",
   "execution_count": 148,
   "id": "47347aaa",
   "metadata": {},
   "outputs": [],
   "source": [
    "with open('hume_xml/hume.02.xml', 'r') as file:\n",
    "    file = bs.BeautifulSoup(file.read(), \"xml\")"
   ]
  },
  {
   "cell_type": "code",
   "execution_count": 149,
   "id": "17ea1567",
   "metadata": {},
   "outputs": [],
   "source": [
    "# missing Introduction and chapter/book division\n",
    "sections = file.find_all('div', type='section')"
   ]
  },
  {
   "cell_type": "code",
   "execution_count": 150,
   "id": "83a7d0c5",
   "metadata": {},
   "outputs": [
    {
     "data": {
      "text/plain": [
       "90"
      ]
     },
     "execution_count": 150,
     "metadata": {},
     "output_type": "execute_result"
    }
   ],
   "source": [
    "len(sections)"
   ]
  },
  {
   "cell_type": "code",
   "execution_count": 156,
   "id": "f55cde48",
   "metadata": {
    "collapsed": true
   },
   "outputs": [
    {
     "name": "stdout",
     "output_type": "stream",
     "text": [
      "SECTION I: OF THE ORIGIN OF OUR IDEAS\n",
      "SECTION II: DIVISION OF THE SUBJECT\n",
      "SECTION III: OF THE IDEAS OF THE MEMORY AND IMAGINATION\n",
      "SECTION IV: OF THE CONNEXION OR ASSOCIATION OF IDEAS\n",
      "SECTION V: OF RELATIONS\n",
      "SECTION VI: OF MODES AND SUBSTANCES\n",
      "SECTION VII: OF ABSTRACT IDEAS\n",
      "SECTION I: OF THE INFINITE DIVISIBILITY OF OUR IDEAS OF SPACE AND TIME\n",
      "SECTION II: OF THE INFINITE DIVISIBILITY OF SPACE AND TIME\n",
      "SECTION III: OF THE OTHER QUALITIES OF OUR IDEAS OF SPACE AND TIME\n",
      "SECTION IV: OBJECTIONS ANSWERED\n",
      "SECTION V: THE SAME SUBJECT CONTINUED\n",
      "SECTION VI: OF THE IDEAS OF EXISTENCE, AND OF EXTERNAL EXISTENCE\n",
      "SECTION I: OF KNOWLEDGE\n",
      "SECTION II: OF PROBABILITY, AND OF THE IDEA OF CAUSE AND EFFECT\n",
      "SECTION III: WHY A CAUSE IS ALWAYS NECESSARY\n",
      "SECTION IV: OF THE COMPONENT PARTS OF OUR REASONINGS CONCERNING CAUSE AND EFFECT\n",
      "SECTION V: OF THE IMPRESSIONS OF THE SENSES AND MEMORY\n",
      "SECTION VI: OF THE INFERENCE FROM THE IMPRESSION TO THE IDEA\n",
      "SECTION VII: OF THE NATURE OF IDEA OR BELIEF\n",
      "SECTION VIII: OF THE CAUSES OF BELIEF\n",
      "SECTION IX: OF THE EFFECTS OF OTHER RELATIONS AND OTHER HABITS\n",
      "SECTION X: OF THE INFLUENCE OF BELIEF\n",
      "SECTION XI: OF THE PROBABILITY OF CHANCES\n",
      "SECTION XII: OF THE PROBABILITY OF CAUSES\n",
      "SECTION XIII: OF UNPHILOSOPHICAL PROBABILITY\n",
      "SECTION XIV: OF THE IDEA OF NECESSARY CONNEXION\n",
      "SECTION XV: RULES BY WHICH TO JUDGE OF CAUSES AND EFFECTS\n",
      "SECTION XVI: OF THE REASON OF ANIMALS\n",
      "SECTION I: OF SCEPTICISM WITH REGARD TO REASON\n",
      "SECTION II: OF SCEPTICISM WITH REGARD TO THE SENSES\n",
      "SECTION III: OF THE ANCIENT PHILOSOPHY\n",
      "SECTION IV: OF THE MODERN PHILOSOPHY\n",
      "SECTION V: OF THE IMMATERIALITY OF THE SOUL\n",
      "SECTION VI: OF PERSONAL IDENTITY\n",
      "SECTION VII: CONCLUSION OF THIS BOOK\n",
      "SECTION I: DIVISION OF THE SUBJECT\n",
      "SECTION II: OF PRIDE AND HUMILITY; THEIR OBJECTS AND CAUSES\n",
      "SECTION III: WHENCE THESE OBJECTS AND CAUSES ARE DERIVED\n",
      "SECTION IV: OF THE RELATIONS OF IMPRESSIONS AND IDEAS\n",
      "SECTION V: OF THE INFLUENCE OF THESE RELATIONS ON PRIDE AND HUMILITY\n",
      "SECTION VI: LIMITATIONS OF THIS SYSTEM\n",
      "SECTION VII: OF VICE AND VIRTUE\n",
      "SECTION VIII: OF BEAUTY AND DEFORMITY\n",
      "SECTION IX: OF EXTERNAL ADVANTAGES AND DISADVANTAGES\n",
      "SECTION X: OF PROPERTY AND RICHES\n",
      "SECTION XI: OF THE LOVE OF FAME\n",
      "SECTION XII: OF THE PRIDE AND HUMILITY OF ANIMALS\n",
      "SECTION I: OF THE OBJECT AND CAUSES OF LOVE AND HATRED\n",
      "SECTION II: EXPERIMENTS TO CONFIRM THIS SYSTEM\n",
      "SECTION III: DIFFICULTIES SOLVED\n",
      "SECTION IV: OF THE LOVE OF RELATIONS\n",
      "SECTION V: OF OUR ESTEEM FOR THE RICH AND POWERFUL\n",
      "SECTION VI: OF BENEVOLENCE AND ANGER\n",
      "SECTION VII: OF COMPASSION\n",
      "SECTION VIII: OF MALICE AND ENVY\n",
      "SECTION IX: OF THE MIXTURE OF BENEVOLENCE AND ANGER WITH COMPASSION AND MALICE\n",
      "SECTION X: OF RESPECT AND CONTEMPT\n",
      "SECTION XI: OF THE AMOROUS PASSION, OR LOVE BETWIXT THE SEXES\n",
      "SECTION XII: OF THE LOVE AND HATRED OF ANIMALS\n",
      "SECTION I: OF LIBERTY AND NECESSITY\n",
      "SECTION II: THE SAME SUBJECT CONTINUED\n",
      "SECTION III: OF THE INFLUENCING MOTIVE OF THE WILL\n",
      "SECTION IV: OF THE CAUSES OF THE VIOLENT PASSIONS\n",
      "SECTION V: OF THE EFFECTS OF CUSTOM\n",
      "SECTION VI: OF THE INFLUENCE OF THE IMAGINATION ON THE PASSIONS\n",
      "SECTION VII: OF CONTIGUITY AND DISTANCE IN SPACE AND TIME\n",
      "SECTION VIII: THE SAME SUBJECT CONTINUED\n",
      "SECTION IX: OF THE DIRECT PASSIONS\n",
      "SECTION X: OF CURIOSITY OR THE LOVE OF TRUTH\n",
      "SECTION I: MORAL DISTINCTIONS NOT DERIVED FROM REASON\n",
      "SECTION II: MORAL DISTINCTIONS DERIVED FROM A MORAL SENSE\n",
      "SECTION I: JUSTICE, WHETHER A NATURAL OR ARTIFICIAL VIRTUE?\n",
      "SECTION II: OF THE ORIGIN OF JUSTICE AND PROPERTY\n",
      "SECTION III: OF THE RULES WHICH DETERMINE PROPERTY\n",
      "SECTION IV: OF THE TRANSFERENCE OF PROPERTY BY CONSENT\n",
      "SECTION V: OF THE OBLIGATION OF PROMISES\n",
      "SECTION VI: SOME FURTHER REFLECTIONS CONCERNING JUSTICE AND INJUSTICE\n",
      "SECTION VII: OF THE ORIGIN OF GOVERNMENT\n",
      "SECTION VIII: OF THE SOURCE OF ALLEGIANCE\n",
      "SECTION IX: OF THE MEASURES OF ALLEGIANCE\n",
      "SECTION X: OF THE OBJECTS OF ALLEGIANCE\n",
      "SECTION XI: OF THE LAWS OF NATIONS\n",
      "SECTION XII: OF CHASTITY AND MODESTY\n",
      "SECTION I: OF THE ORIGIN OF THE NATURAL VIRTUES AND VICES\n",
      "SECTION II: OF GREATNESS OF MIND\n",
      "SECTION III: OF GOODNESS AND BENEVOLENCE\n",
      "SECTION IV: OF NATURAL ABILITIES\n",
      "SECTION V: SOME FURTHER REFLECTIONS CONCERNING THE NATURAL VIRTUES\n",
      "SECTION VI: CONCLUSION OF THIS BOOK\n"
     ]
    }
   ],
   "source": [
    "j_dict = {'texts':[]}\n",
    "titles = []\n",
    "for section in sections: \n",
    "    title = section.find('head').text\n",
    "    print(title)\n",
    "    titles.append(title)\n",
    "    text = [par.text.rstrip('\\n').replace('\\n', ' ') for par in section.find_all('p')]\n",
    "    text_dict = {'genre' : 'treatise',\n",
    "                'title' : title,\n",
    "                'text' : text}  \n",
    "    j_dict['texts'].append(text_dict)"
   ]
  },
  {
   "cell_type": "code",
   "execution_count": 157,
   "id": "af7b4da5",
   "metadata": {},
   "outputs": [
    {
     "data": {
      "text/plain": [
       "90"
      ]
     },
     "execution_count": 157,
     "metadata": {},
     "output_type": "execute_result"
    }
   ],
   "source": [
    "len(set(titles))"
   ]
  },
  {
   "cell_type": "code",
   "execution_count": 154,
   "id": "9d271f46",
   "metadata": {},
   "outputs": [],
   "source": [
    "with open('treatise.json', 'w') as file:\n",
    "    json.dump(j_dict, file, indent=3)"
   ]
  },
  {
   "cell_type": "markdown",
   "id": "ecdaa60b",
   "metadata": {},
   "source": [
    "## Enquiries"
   ]
  },
  {
   "cell_type": "code",
   "execution_count": 178,
   "id": "ac7998ad",
   "metadata": {},
   "outputs": [],
   "source": [
    "with open('hume_xml/hume.05.xml', 'r') as file:\n",
    "    file = bs.BeautifulSoup(file.read(), \"xml\")\n",
    "\n",
    "chapters = file.find_all('div', type='chapter')"
   ]
  },
  {
   "cell_type": "code",
   "execution_count": 179,
   "id": "1eb83a1b",
   "metadata": {},
   "outputs": [
    {
     "name": "stdout",
     "output_type": "stream",
     "text": [
      "Section 1: Of the Different Species of Philosophy\n",
      "Section 2: Of the Origin of Ideas\n",
      "Section 3: Of the Association of Ideas\n",
      "Section 4: Sceptical Doubts concerning the Operations of the Understanding\n",
      "Section 5: Sceptical Solution of these Doubts\n",
      "Section 6: Of Probability\n",
      "Section 7: Of the Idea of Necessary Connexion\n",
      "Section 8: Of Liberty and Necessity\n",
      "Section 9: Of the Reason of Animals\n",
      "Section 10: Of Miracles\n",
      "Section 11: Of a Particular Providence and of a Future State\n",
      "Section 12: Of the Academical or Sceptical Philosophy\n"
     ]
    }
   ],
   "source": [
    "j_dict = {'texts':[]}\n",
    "titles = []\n",
    "# ignore table of contents, publishing info, author's advertisment, footnotes, variants\n",
    "for chapter in chapters[3:-2]: \n",
    "    title = chapter.find('head').text\n",
    "    print(title)\n",
    "    titles.append(title)\n",
    "    text = [par.text.rstrip('\\n').replace('\\n', ' ') for par in chapter.find_all('p')]\n",
    "    text_dict = {'genre' : 'enquiry HU',\n",
    "                'title' : title,\n",
    "                'text' : text}  \n",
    "    j_dict['texts'].append(text_dict)"
   ]
  },
  {
   "cell_type": "code",
   "execution_count": 180,
   "id": "ca8fa78f",
   "metadata": {},
   "outputs": [],
   "source": [
    "with open('hume_xml/hume.06.xml', 'r') as file:\n",
    "    file = bs.BeautifulSoup(file.read(), \"xml\")\n",
    "    \n",
    "chapters = file.find_all('div', type='chapter')"
   ]
  },
  {
   "cell_type": "code",
   "execution_count": 181,
   "id": "631491f7",
   "metadata": {},
   "outputs": [
    {
     "name": "stdout",
     "output_type": "stream",
     "text": [
      "Section 1: Of the General Principles of Morals\n",
      "Section 2 : Of Benevolence\n",
      "Section 3: Of Justice\n",
      "Section 4: Of Political Society\n",
      "Section 5: Why Utility Pleases\n",
      "Section 6: Of Qualities useful to Ourselves\n",
      "Section 7: Of Qualities immediately Agreeable to Ourselves\n",
      "Section 8: Of Qualities immediately Agreeable to Others\n",
      "Section 9: Conclusion\n",
      "Appendix 1: Concerning Moral Sentiment\n",
      "Appendix 2: Of Self-Love\n",
      "Appendix 3: Some Farther Considerations with regard to Justice\n",
      "Appendix 4: Of Some Verbal Disputes\n",
      "A Dialogue\n"
     ]
    }
   ],
   "source": [
    "# ignore table of contents, publishing info, author's advertisment, footnotes, variants, list of editions\n",
    "for chapter in chapters[2:-3]: \n",
    "    title = chapter.find('head').text\n",
    "    print(title)\n",
    "    titles.append(title)\n",
    "    text = [par.text.rstrip('\\n').replace('\\n', ' ') for par in chapter.find_all('p')]\n",
    "    text_dict = {'genre' : 'enquiry PoM',\n",
    "                'title' : title,\n",
    "                'text' : text}  \n",
    "    j_dict['texts'].append(text_dict)"
   ]
  },
  {
   "cell_type": "code",
   "execution_count": 183,
   "id": "12b801f7",
   "metadata": {},
   "outputs": [],
   "source": [
    "with open('enquiries.json', 'w') as file:\n",
    "    json.dump(j_dict, file, indent=3)"
   ]
  },
  {
   "cell_type": "markdown",
   "id": "836ab4f2",
   "metadata": {},
   "source": [
    "## A Dissertation of The Passions"
   ]
  },
  {
   "cell_type": "code",
   "execution_count": 184,
   "id": "896f97ec",
   "metadata": {},
   "outputs": [],
   "source": [
    "with open('hume_xml/hume.08.xml', 'r') as file:\n",
    "    file = bs.BeautifulSoup(file.read(), \"xml\")\n",
    "\n",
    "chapters = file.find_all('div', type='chapter')"
   ]
  },
  {
   "cell_type": "code",
   "execution_count": 189,
   "id": "e56ab06b",
   "metadata": {},
   "outputs": [
    {
     "name": "stdout",
     "output_type": "stream",
     "text": [
      "Section 1\n",
      "Section 2\n",
      "Section 3\n",
      "Section 4\n",
      "Section 5\n",
      "Section 6\n"
     ]
    }
   ],
   "source": [
    "j_dict = {'texts':[]}\n",
    "titles = []\n",
    "# ignore table of contents, publishing info, footnotes, variants\n",
    "for chapter in chapters[2:-2]: \n",
    "    title = chapter.find('head').text\n",
    "    print(title)\n",
    "    titles.append(title)\n",
    "    text = [par.text.rstrip('\\n').replace('\\n', ' ') for par in chapter.find_all('p')]\n",
    "    text_dict = {'genre' : 'dissertation',\n",
    "                'title' : title,\n",
    "                'text' : text}  \n",
    "    j_dict['texts'].append(text_dict)"
   ]
  },
  {
   "cell_type": "code",
   "execution_count": 190,
   "id": "fa44fb71",
   "metadata": {},
   "outputs": [],
   "source": [
    "with open('dissertation.json', 'w') as file:\n",
    "    json.dump(j_dict, file, indent=3)"
   ]
  },
  {
   "cell_type": "markdown",
   "id": "dee9df75",
   "metadata": {},
   "source": [
    "## Natural History"
   ]
  },
  {
   "cell_type": "code",
   "execution_count": 191,
   "id": "d2817ff6",
   "metadata": {},
   "outputs": [],
   "source": [
    "with open('hume_xml/hume.09.xml', 'r') as file:\n",
    "    file = bs.BeautifulSoup(file.read(), \"xml\")\n",
    "\n",
    "chapters = file.find_all('div', type='chapter')"
   ]
  },
  {
   "cell_type": "code",
   "execution_count": 194,
   "id": "e3ac83b4",
   "metadata": {},
   "outputs": [
    {
     "name": "stdout",
     "output_type": "stream",
     "text": [
      "Introduction\n",
      "Section 1: That Polytheism was the Primary Religion of Man\n",
      "Section 2: Origin of Polytheism\n",
      "Section 3: The Same Subject Continued\n",
      "Section 4: Deities not considered as Creators or Formers of the World\n",
      "Section 5: Various Forms of Polytheism: Allegory, Hero-Worship\n",
      "Section 6: Origin of Theism from Polytheism\n",
      "Section 7: Confirmation of this Doctrine\n",
      "Section 8: Flux and Reflux of Polytheism and Theism\n",
      "Section 9: Comparison of these Religions, with regard to Persecution and Toleration\n",
      "Section 10: With regard to Courage or Abasement\n",
      "Section 11: With regard to Reason or Absurdity\n",
      "Section 12: With regard to Doubt or Conviction\n",
      "Section 13: Impious Conceptions of the Divine Nature in Popular Religions of both Kinds\n",
      "Section 14: Bad Influence of Popular Religions on Morality\n",
      "Section 15: General Corollary\n"
     ]
    }
   ],
   "source": [
    "j_dict = {'texts':[]}\n",
    "titles = []\n",
    "# ignore table of contents, publishing info, footnotes, variants\n",
    "for chapter in chapters[2:-2]: \n",
    "    title = chapter.find('head').text\n",
    "    print(title)\n",
    "    titles.append(title)\n",
    "    text = [par.text.rstrip('\\n').replace('\\n', ' ') for par in chapter.find_all('p')]\n",
    "    text_dict = {'genre' : 'natural history',\n",
    "                'title' : title,\n",
    "                'text' : text}  \n",
    "    j_dict['texts'].append(text_dict)"
   ]
  },
  {
   "cell_type": "code",
   "execution_count": 195,
   "id": "7f2eed44",
   "metadata": {},
   "outputs": [],
   "source": [
    "with open('natural history.json', 'w') as file:\n",
    "    json.dump(j_dict, file, indent=3)"
   ]
  },
  {
   "cell_type": "markdown",
   "id": "3085e05d",
   "metadata": {},
   "source": [
    "## Dialogues "
   ]
  },
  {
   "cell_type": "code",
   "execution_count": 196,
   "id": "50ec1023",
   "metadata": {},
   "outputs": [],
   "source": [
    "with open('hume_xml/hume.10.xml', 'r') as file:\n",
    "    file = bs.BeautifulSoup(file.read(), \"xml\")\n",
    "\n",
    "chapters = file.find_all('div', type='chapter')"
   ]
  },
  {
   "cell_type": "code",
   "execution_count": 204,
   "id": "fb6cc5cb",
   "metadata": {},
   "outputs": [
    {
     "name": "stdout",
     "output_type": "stream",
     "text": [
      "Pamphilus to Hermippus\n",
      "Part 1\n",
      "Part 2\n",
      "Part 3\n",
      "Part 4\n",
      "Part 5\n",
      "Part 6\n",
      "Part 7\n",
      "Part 8\n",
      "Part 9\n",
      "Part 10\n",
      "Part 11\n",
      "Part 12\n"
     ]
    }
   ],
   "source": [
    "j_dict = {'texts':[]}\n",
    "titles = []\n",
    "# ignore table of contents, publishing info, footnotes, variants\n",
    "for chapter in chapters[2:-1]: \n",
    "    title = chapter.find('head').text\n",
    "    print(title)\n",
    "    titles.append(title)\n",
    "    text = [par.text.rstrip('\\n').replace('\\n', ' ') for par in chapter.find_all('p')]\n",
    "    text_dict = {'genre' : 'dialogues',\n",
    "                'title' : title,\n",
    "                'text' : text}  \n",
    "    j_dict['texts'].append(text_dict)"
   ]
  },
  {
   "cell_type": "code",
   "execution_count": 206,
   "id": "eac7f4a0",
   "metadata": {},
   "outputs": [],
   "source": [
    "with open('dialogues.json', 'w') as file:\n",
    "    json.dump(j_dict, file, indent=3)"
   ]
  },
  {
   "cell_type": "markdown",
   "id": "b8f6fef8",
   "metadata": {},
   "source": [
    "## An Abstract of A Treatise of Human Nature"
   ]
  },
  {
   "cell_type": "code",
   "execution_count": 17,
   "id": "c82f743d",
   "metadata": {},
   "outputs": [],
   "source": [
    "with open('hume_xml/hume.03.xml', 'r') as file:\n",
    "    file = bs.BeautifulSoup(file.read(), \"xml\")\n",
    "\n",
    "books = file.find_all('div', type='book')"
   ]
  },
  {
   "cell_type": "code",
   "execution_count": 32,
   "id": "5f1d4bce",
   "metadata": {},
   "outputs": [],
   "source": [
    "paragraphs = []\n",
    "\n",
    "paragraphs.append(books[0].find_all('p', rend='center')[-1])\n",
    "paragraphs.extend(books[0].find_all('p', rend='tbindent'))"
   ]
  },
  {
   "cell_type": "code",
   "execution_count": 33,
   "id": "e7aa71f2",
   "metadata": {},
   "outputs": [],
   "source": [
    "paragraphs.append(books[1].find_all('p', rend='center')[-2]) # missing FINIS. now\n",
    "paragraphs.extend(books[1].find_all('p', rend='tbindent'))"
   ]
  },
  {
   "cell_type": "code",
   "execution_count": 35,
   "id": "1c41dc24",
   "metadata": {},
   "outputs": [],
   "source": [
    "j_dict = {'texts':[]}\n",
    "titles = []\n",
    "title = 'An Abstract of A Treatise of Human Nature'\n",
    "\n",
    "text = [par.text.rstrip('\\n').replace('\\n', ' ') for par in paragraphs]\n",
    "\n",
    "text_dict = {'genre' : 'abstract',\n",
    "             'title' : title,\n",
    "            'text' : text}  \n",
    "j_dict['texts'].append(text_dict)"
   ]
  },
  {
   "cell_type": "code",
   "execution_count": 37,
   "id": "2a3426eb",
   "metadata": {},
   "outputs": [],
   "source": [
    "with open('abstract.json', 'w') as file:\n",
    "    json.dump(j_dict, file, indent=3)"
   ]
  },
  {
   "cell_type": "markdown",
   "id": "cb10a27e",
   "metadata": {},
   "source": [
    "## A letter from a Gentleman"
   ]
  },
  {
   "cell_type": "code",
   "execution_count": 38,
   "id": "be6288eb",
   "metadata": {},
   "outputs": [],
   "source": [
    "with open('hume_xml/hume.04.xml', 'r') as file:\n",
    "    file = bs.BeautifulSoup(file.read(), \"xml\")\n",
    "\n",
    "books = file.find_all('div', type='book')"
   ]
  },
  {
   "cell_type": "code",
   "execution_count": 43,
   "id": "bbec4ca1",
   "metadata": {},
   "outputs": [],
   "source": [
    "j_dict = {'texts':[]}\n",
    "titles = []\n",
    "title = 'A Letter from a Gentleman'\n",
    "\n",
    "text = [par.text.rstrip('\\n').replace('\\n', ' ') for par in books[1].find_all('p')]\n",
    "\n",
    "text_dict = {'genre' : 'letter',\n",
    "             'title' : title,\n",
    "            'text' : text}  \n",
    "j_dict['texts'].append(text_dict)"
   ]
  },
  {
   "cell_type": "code",
   "execution_count": 45,
   "id": "472fd5f6",
   "metadata": {},
   "outputs": [],
   "source": [
    "with open('letter.json', 'w') as file:\n",
    "    json.dump(j_dict, file, indent=3)"
   ]
  }
 ],
 "metadata": {
  "kernelspec": {
   "display_name": "Python 3 (ipykernel)",
   "language": "python",
   "name": "python3"
  },
  "language_info": {
   "codemirror_mode": {
    "name": "ipython",
    "version": 3
   },
   "file_extension": ".py",
   "mimetype": "text/x-python",
   "name": "python",
   "nbconvert_exporter": "python",
   "pygments_lexer": "ipython3",
   "version": "3.10.12"
  }
 },
 "nbformat": 4,
 "nbformat_minor": 5
}
