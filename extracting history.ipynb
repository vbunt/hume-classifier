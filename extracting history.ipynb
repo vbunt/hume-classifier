{
 "cells": [
  {
   "cell_type": "code",
   "execution_count": 2,
   "id": "7b1b8e51",
   "metadata": {},
   "outputs": [],
   "source": [
    "import pandas as pd\n",
    "from datasets import Dataset\n",
    "import pickle\n",
    "from utils import id2label, label2id, classes"
   ]
  },
  {
   "cell_type": "code",
   "execution_count": 4,
   "id": "d2bb3e9d",
   "metadata": {},
   "outputs": [],
   "source": [
    "df = pd.read_json('all.json')\n",
    "history_dataset = df[df.genre=='history']\n",
    "titles = history_dataset['title'].to_list()\n",
    "DATA = Dataset.from_pandas(history_dataset)"
   ]
  },
  {
   "cell_type": "code",
   "execution_count": 6,
   "id": "16a2090e",
   "metadata": {},
   "outputs": [],
   "source": [
    "def predict_logreg(model_path='models/logreg.pkl', vect_path='models/tfidf_vectorizer.pkl'):\n",
    "\n",
    "    # load\n",
    "    with open(model_path, 'rb') as f:\n",
    "        model = pickle.load(f)\n",
    "\n",
    "    with open(vect_path, 'rb') as f:\n",
    "        vect = pickle.load(f)\n",
    "\n",
    "    x_test = vect.transform(DATA['text'])\n",
    "    pred = model.predict_proba(x_test)\n",
    "    \n",
    "    return pred"
   ]
  },
  {
   "cell_type": "code",
   "execution_count": 7,
   "id": "68dd6a26",
   "metadata": {},
   "outputs": [],
   "source": [
    "pred_logreg = predict_logreg('models/logreg_stopwords.pkl', 'models/tfidf_vectorizer_stopwords.pkl')"
   ]
  },
  {
   "cell_type": "code",
   "execution_count": 8,
   "id": "52ea2ebc",
   "metadata": {},
   "outputs": [
    {
     "data": {
      "text/plain": [
       "348"
      ]
     },
     "execution_count": 8,
     "metadata": {},
     "output_type": "execute_result"
    }
   ],
   "source": [
    "total = 0\n",
    "new_history = []\n",
    "i = 0\n",
    "for sample in pred_logreg:\n",
    "    if sample[4] > 0.9:\n",
    "        total += 1\n",
    "        new_history.append(DATA[i])\n",
    "    i += 1\n",
    "        \n",
    "total"
   ]
  },
  {
   "cell_type": "code",
   "execution_count": 9,
   "id": "87108dac",
   "metadata": {},
   "outputs": [
    {
     "data": {
      "text/plain": [
       "{'title': 'I',\n",
       " 'genre': 'history',\n",
       " 'text': \"This able prince perished with his son, Osfrid, in a great battle which he fought against Penda, king of Mercia, and Caedwalla, king of the Britons. That event, which happened in the forty-eighth year of Edwin's age and seventeenth of his reign, divided the monarchy of Northumberland, which that prince had united in his person. Eanfrid, the son of Adelfrid, returned with his brothers, Oswald and Oswy, from Scotland, and took possession of Bernicia, his paternal kingdom: Osric, Edwin's cousin-german, established himself in Deïri, the inheritance of his family; but to which the sons of Edwin had a preferable title. Eanfrid, the elder surviving son, fled to Penda, by whom he was treacherously slain. The younger son, Vuscfraea, with Yffi, the grandson of Edwin, by Osfrid, sought protection in Kent, and not finding themselves in safety there, retired into France to King Dagobert, where they died.\",\n",
       " 'labels': 4,\n",
       " '__index_level_0__': 2186}"
      ]
     },
     "execution_count": 9,
     "metadata": {},
     "output_type": "execute_result"
    }
   ],
   "source": [
    "DATA[52]"
   ]
  },
  {
   "cell_type": "code",
   "execution_count": 10,
   "id": "fca0bb58",
   "metadata": {},
   "outputs": [],
   "source": [
    "new_history_df = df.from_dict(new_history).rename(columns={'__index_level_0__':'index'}).set_index('index')"
   ]
  },
  {
   "cell_type": "markdown",
   "id": "19f29fd8",
   "metadata": {},
   "source": [
    "To make sure that there are no paragraphs in the resulting data that the classifyer was trained on:"
   ]
  },
  {
   "cell_type": "code",
   "execution_count": 21,
   "id": "729139c7",
   "metadata": {},
   "outputs": [],
   "source": [
    "# old dataset\n",
    "random_dataset = df[df.genre=='history'].sample(n=500, random_state=13)"
   ]
  },
  {
   "cell_type": "code",
   "execution_count": 26,
   "id": "5a887250",
   "metadata": {},
   "outputs": [],
   "source": [
    "# everything that is only in the new dataset\n",
    "good_indexes = list(set(new_history_df.index) - set(random_dataset.index))"
   ]
  },
  {
   "cell_type": "code",
   "execution_count": 33,
   "id": "d0eced5c",
   "metadata": {},
   "outputs": [],
   "source": [
    "new_history_df = new_history_df.loc[good_indexes]"
   ]
  },
  {
   "cell_type": "code",
   "execution_count": 34,
   "id": "7cdd34ee",
   "metadata": {},
   "outputs": [
    {
     "data": {
      "text/html": [
       "<div>\n",
       "<style scoped>\n",
       "    .dataframe tbody tr th:only-of-type {\n",
       "        vertical-align: middle;\n",
       "    }\n",
       "\n",
       "    .dataframe tbody tr th {\n",
       "        vertical-align: top;\n",
       "    }\n",
       "\n",
       "    .dataframe thead th {\n",
       "        text-align: right;\n",
       "    }\n",
       "</style>\n",
       "<table border=\"1\" class=\"dataframe\">\n",
       "  <thead>\n",
       "    <tr style=\"text-align: right;\">\n",
       "      <th></th>\n",
       "      <th>title</th>\n",
       "      <th>genre</th>\n",
       "      <th>text</th>\n",
       "      <th>labels</th>\n",
       "    </tr>\n",
       "    <tr>\n",
       "      <th>index</th>\n",
       "      <th></th>\n",
       "      <th></th>\n",
       "      <th></th>\n",
       "      <th></th>\n",
       "    </tr>\n",
       "  </thead>\n",
       "  <tbody>\n",
       "    <tr>\n",
       "      <th>6147</th>\n",
       "      <td>LX</td>\n",
       "      <td>history</td>\n",
       "      <td>The dominion, which England claimed over Irela...</td>\n",
       "      <td>4</td>\n",
       "    </tr>\n",
       "    <tr>\n",
       "      <th>6150</th>\n",
       "      <td>LX</td>\n",
       "      <td>history</td>\n",
       "      <td>Meanwhile, the unfortunate king was necessitat...</td>\n",
       "      <td>4</td>\n",
       "    </tr>\n",
       "    <tr>\n",
       "      <th>4105</th>\n",
       "      <td>XXXIII</td>\n",
       "      <td>history</td>\n",
       "      <td>HENRY, BEING DETERMINED to avenge himself on t...</td>\n",
       "      <td>4</td>\n",
       "    </tr>\n",
       "    <tr>\n",
       "      <th>4106</th>\n",
       "      <td>XXXIII</td>\n",
       "      <td>history</td>\n",
       "      <td>The duke of Norfolk, meanwhile, began to move ...</td>\n",
       "      <td>4</td>\n",
       "    </tr>\n",
       "    <tr>\n",
       "      <th>4110</th>\n",
       "      <td>XXXIII</td>\n",
       "      <td>history</td>\n",
       "      <td>James earl of Arran, of the name of Hamilton, ...</td>\n",
       "      <td>4</td>\n",
       "    </tr>\n",
       "    <tr>\n",
       "      <th>...</th>\n",
       "      <td>...</td>\n",
       "      <td>...</td>\n",
       "      <td>...</td>\n",
       "      <td>...</td>\n",
       "    </tr>\n",
       "    <tr>\n",
       "      <th>4025</th>\n",
       "      <td>XXXI</td>\n",
       "      <td>history</td>\n",
       "      <td>The trial and conviction of queen Anne, and th...</td>\n",
       "      <td>4</td>\n",
       "    </tr>\n",
       "    <tr>\n",
       "      <th>4038</th>\n",
       "      <td>XXXI</td>\n",
       "      <td>history</td>\n",
       "      <td>The duke of Norfolk was appointed general of t...</td>\n",
       "      <td>4</td>\n",
       "    </tr>\n",
       "    <tr>\n",
       "      <th>4039</th>\n",
       "      <td>XXXI</td>\n",
       "      <td>history</td>\n",
       "      <td>Soon after this prosperous success, an event h...</td>\n",
       "      <td>4</td>\n",
       "    </tr>\n",
       "    <tr>\n",
       "      <th>6092</th>\n",
       "      <td>LIX</td>\n",
       "      <td>history</td>\n",
       "      <td>By these multiplied successes of the army, the...</td>\n",
       "      <td>4</td>\n",
       "    </tr>\n",
       "    <tr>\n",
       "      <th>4053</th>\n",
       "      <td>XXXI</td>\n",
       "      <td>history</td>\n",
       "      <td>The pope and emperor thought themselves oblige...</td>\n",
       "      <td>4</td>\n",
       "    </tr>\n",
       "  </tbody>\n",
       "</table>\n",
       "<p>310 rows × 4 columns</p>\n",
       "</div>"
      ],
      "text/plain": [
       "        title    genre                                               text  \\\n",
       "index                                                                       \n",
       "6147       LX  history  The dominion, which England claimed over Irela...   \n",
       "6150       LX  history  Meanwhile, the unfortunate king was necessitat...   \n",
       "4105   XXXIII  history  HENRY, BEING DETERMINED to avenge himself on t...   \n",
       "4106   XXXIII  history  The duke of Norfolk, meanwhile, began to move ...   \n",
       "4110   XXXIII  history  James earl of Arran, of the name of Hamilton, ...   \n",
       "...       ...      ...                                                ...   \n",
       "4025     XXXI  history  The trial and conviction of queen Anne, and th...   \n",
       "4038     XXXI  history  The duke of Norfolk was appointed general of t...   \n",
       "4039     XXXI  history  Soon after this prosperous success, an event h...   \n",
       "6092      LIX  history  By these multiplied successes of the army, the...   \n",
       "4053     XXXI  history  The pope and emperor thought themselves oblige...   \n",
       "\n",
       "       labels  \n",
       "index          \n",
       "6147        4  \n",
       "6150        4  \n",
       "4105        4  \n",
       "4106        4  \n",
       "4110        4  \n",
       "...       ...  \n",
       "4025        4  \n",
       "4038        4  \n",
       "4039        4  \n",
       "6092        4  \n",
       "4053        4  \n",
       "\n",
       "[310 rows x 4 columns]"
      ]
     },
     "execution_count": 34,
     "metadata": {},
     "output_type": "execute_result"
    }
   ],
   "source": [
    "new_history_df"
   ]
  },
  {
   "cell_type": "code",
   "execution_count": 35,
   "id": "6f453035",
   "metadata": {},
   "outputs": [],
   "source": [
    "new_history_df.to_json('hume_json/history_automatic.json')"
   ]
  }
 ],
 "metadata": {
  "kernelspec": {
   "display_name": "Python 3 (ipykernel)",
   "language": "python",
   "name": "python3"
  },
  "language_info": {
   "codemirror_mode": {
    "name": "ipython",
    "version": 3
   },
   "file_extension": ".py",
   "mimetype": "text/x-python",
   "name": "python",
   "nbconvert_exporter": "python",
   "pygments_lexer": "ipython3",
   "version": "3.10.12"
  }
 },
 "nbformat": 4,
 "nbformat_minor": 5
}
