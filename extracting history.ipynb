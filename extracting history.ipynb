{
 "cells": [
  {
   "cell_type": "code",
   "execution_count": 29,
   "id": "7b1b8e51",
   "metadata": {},
   "outputs": [],
   "source": [
    "import pandas as pd\n",
    "from datasets import Dataset\n",
    "import pickle\n",
    "from utils import id2label, label2id, classes"
   ]
  },
  {
   "cell_type": "code",
   "execution_count": 30,
   "id": "4749a866",
   "metadata": {},
   "outputs": [
    {
     "data": {
      "text/plain": [
       "{0: 'dialogues',\n",
       " 1: 'dissertation',\n",
       " 2: 'enquiry',\n",
       " 3: 'essay',\n",
       " 4: 'history',\n",
       " 5: 'political discourses',\n",
       " 6: 'treatise'}"
      ]
     },
     "execution_count": 30,
     "metadata": {},
     "output_type": "execute_result"
    }
   ],
   "source": [
    "id2label"
   ]
  },
  {
   "cell_type": "code",
   "execution_count": 31,
   "id": "d2bb3e9d",
   "metadata": {},
   "outputs": [],
   "source": [
    "df = pd.read_json('all.json')\n",
    "history_dataset = df[df.genre=='history']\n",
    "titles = history_dataset['title'].to_list()\n",
    "DATA = Dataset.from_pandas(history_dataset)"
   ]
  },
  {
   "cell_type": "code",
   "execution_count": 32,
   "id": "16a2090e",
   "metadata": {},
   "outputs": [],
   "source": [
    "def predict_logreg(model_path='models/logreg.pkl', vect_path='models/tfidf_vectorizer.pkl'):\n",
    "\n",
    "    # load\n",
    "    with open(model_path, 'rb') as f:\n",
    "        model = pickle.load(f)\n",
    "\n",
    "    with open(vect_path, 'rb') as f:\n",
    "        vect = pickle.load(f)\n",
    "\n",
    "    x_test = vect.transform(DATA['text'])\n",
    "    pred = model.predict_proba(x_test)\n",
    "    \n",
    "    return pred"
   ]
  },
  {
   "cell_type": "code",
   "execution_count": 33,
   "id": "68dd6a26",
   "metadata": {},
   "outputs": [],
   "source": [
    "pred_logreg = predict_logreg('models/logreg_stopwords.pkl', 'models/tfidf_vectorizer_stopwords.pkl')"
   ]
  },
  {
   "cell_type": "code",
   "execution_count": 38,
   "id": "52ea2ebc",
   "metadata": {},
   "outputs": [
    {
     "data": {
      "text/plain": [
       "348"
      ]
     },
     "execution_count": 38,
     "metadata": {},
     "output_type": "execute_result"
    }
   ],
   "source": [
    "total = 0\n",
    "new_history = []\n",
    "i = 0\n",
    "for sample in pred_logreg:\n",
    "    if sample[4] > 0.9:\n",
    "        total += 1\n",
    "        new_history.append(DATA[i])\n",
    "    i += 1\n",
    "        \n",
    "total"
   ]
  },
  {
   "cell_type": "code",
   "execution_count": 35,
   "id": "87108dac",
   "metadata": {},
   "outputs": [
    {
     "data": {
      "text/plain": [
       "{'title': 'I',\n",
       " 'genre': 'history',\n",
       " 'text': \"This able prince perished with his son, Osfrid, in a great battle which he fought against Penda, king of Mercia, and Caedwalla, king of the Britons. That event, which happened in the forty-eighth year of Edwin's age and seventeenth of his reign, divided the monarchy of Northumberland, which that prince had united in his person. Eanfrid, the son of Adelfrid, returned with his brothers, Oswald and Oswy, from Scotland, and took possession of Bernicia, his paternal kingdom: Osric, Edwin's cousin-german, established himself in Deïri, the inheritance of his family; but to which the sons of Edwin had a preferable title. Eanfrid, the elder surviving son, fled to Penda, by whom he was treacherously slain. The younger son, Vuscfraea, with Yffi, the grandson of Edwin, by Osfrid, sought protection in Kent, and not finding themselves in safety there, retired into France to King Dagobert, where they died.\",\n",
       " 'labels': 4,\n",
       " '__index_level_0__': 2186}"
      ]
     },
     "execution_count": 35,
     "metadata": {},
     "output_type": "execute_result"
    }
   ],
   "source": [
    "DATA[52]"
   ]
  },
  {
   "cell_type": "code",
   "execution_count": 45,
   "id": "fca0bb58",
   "metadata": {},
   "outputs": [],
   "source": [
    "new_history_df = df.from_dict(new_history).rename(columns={'__index_level_0__':'index'}).set_index('index')"
   ]
  },
  {
   "cell_type": "code",
   "execution_count": 48,
   "id": "6f453035",
   "metadata": {},
   "outputs": [],
   "source": [
    "new_history_df.to_json('hume_json/history_automatic.json')"
   ]
  },
  {
   "cell_type": "code",
   "execution_count": 40,
   "id": "5a887250",
   "metadata": {},
   "outputs": [
    {
     "data": {
      "text/html": [
       "<div>\n",
       "<style scoped>\n",
       "    .dataframe tbody tr th:only-of-type {\n",
       "        vertical-align: middle;\n",
       "    }\n",
       "\n",
       "    .dataframe tbody tr th {\n",
       "        vertical-align: top;\n",
       "    }\n",
       "\n",
       "    .dataframe thead th {\n",
       "        text-align: right;\n",
       "    }\n",
       "</style>\n",
       "<table border=\"1\" class=\"dataframe\">\n",
       "  <thead>\n",
       "    <tr style=\"text-align: right;\">\n",
       "      <th></th>\n",
       "      <th>title</th>\n",
       "      <th>genre</th>\n",
       "      <th>text</th>\n",
       "      <th>labels</th>\n",
       "    </tr>\n",
       "  </thead>\n",
       "  <tbody>\n",
       "    <tr>\n",
       "      <th>2134</th>\n",
       "      <td>I</td>\n",
       "      <td>history</td>\n",
       "      <td>THE CURIOSITY, entertained by all civilized na...</td>\n",
       "      <td>4</td>\n",
       "    </tr>\n",
       "    <tr>\n",
       "      <th>2135</th>\n",
       "      <td>I</td>\n",
       "      <td>history</td>\n",
       "      <td>All ancient writers agree in representing the ...</td>\n",
       "      <td>4</td>\n",
       "    </tr>\n",
       "    <tr>\n",
       "      <th>2136</th>\n",
       "      <td>I</td>\n",
       "      <td>history</td>\n",
       "      <td>The Britons were divided into many small natio...</td>\n",
       "      <td>4</td>\n",
       "    </tr>\n",
       "    <tr>\n",
       "      <th>2137</th>\n",
       "      <td>I</td>\n",
       "      <td>history</td>\n",
       "      <td>The religion of the Britons was one of the mos...</td>\n",
       "      <td>4</td>\n",
       "    </tr>\n",
       "    <tr>\n",
       "      <th>2138</th>\n",
       "      <td>I</td>\n",
       "      <td>history</td>\n",
       "      <td>No species of superstition was ever more terri...</td>\n",
       "      <td>4</td>\n",
       "    </tr>\n",
       "    <tr>\n",
       "      <th>...</th>\n",
       "      <td>...</td>\n",
       "      <td>...</td>\n",
       "      <td>...</td>\n",
       "      <td>...</td>\n",
       "    </tr>\n",
       "    <tr>\n",
       "      <th>7174</th>\n",
       "      <td>LXXI</td>\n",
       "      <td>history</td>\n",
       "      <td>Most of the celebrated writers of this age rem...</td>\n",
       "      <td>4</td>\n",
       "    </tr>\n",
       "    <tr>\n",
       "      <th>7175</th>\n",
       "      <td>LXXI</td>\n",
       "      <td>history</td>\n",
       "      <td>The very name of Rochester is offensive to mod...</td>\n",
       "      <td>4</td>\n",
       "    </tr>\n",
       "    <tr>\n",
       "      <th>7176</th>\n",
       "      <td>LXXI</td>\n",
       "      <td>history</td>\n",
       "      <td>Wycherley was ambitious of the reputation of w...</td>\n",
       "      <td>4</td>\n",
       "    </tr>\n",
       "    <tr>\n",
       "      <th>7177</th>\n",
       "      <td>LXXI</td>\n",
       "      <td>history</td>\n",
       "      <td>Of all the considerable writers of this age, S...</td>\n",
       "      <td>4</td>\n",
       "    </tr>\n",
       "    <tr>\n",
       "      <th>7178</th>\n",
       "      <td>LXXI</td>\n",
       "      <td>history</td>\n",
       "      <td>Though Hudibras was published, and probably co...</td>\n",
       "      <td>4</td>\n",
       "    </tr>\n",
       "  </tbody>\n",
       "</table>\n",
       "<p>5045 rows × 4 columns</p>\n",
       "</div>"
      ],
      "text/plain": [
       "     title    genre                                               text  labels\n",
       "2134     I  history  THE CURIOSITY, entertained by all civilized na...       4\n",
       "2135     I  history  All ancient writers agree in representing the ...       4\n",
       "2136     I  history  The Britons were divided into many small natio...       4\n",
       "2137     I  history  The religion of the Britons was one of the mos...       4\n",
       "2138     I  history  No species of superstition was ever more terri...       4\n",
       "...    ...      ...                                                ...     ...\n",
       "7174  LXXI  history  Most of the celebrated writers of this age rem...       4\n",
       "7175  LXXI  history  The very name of Rochester is offensive to mod...       4\n",
       "7176  LXXI  history  Wycherley was ambitious of the reputation of w...       4\n",
       "7177  LXXI  history  Of all the considerable writers of this age, S...       4\n",
       "7178  LXXI  history  Though Hudibras was published, and probably co...       4\n",
       "\n",
       "[5045 rows x 4 columns]"
      ]
     },
     "execution_count": 40,
     "metadata": {},
     "output_type": "execute_result"
    }
   ],
   "source": [
    "history_dataset"
   ]
  }
 ],
 "metadata": {
  "kernelspec": {
   "display_name": "Python 3 (ipykernel)",
   "language": "python",
   "name": "python3"
  },
  "language_info": {
   "codemirror_mode": {
    "name": "ipython",
    "version": 3
   },
   "file_extension": ".py",
   "mimetype": "text/x-python",
   "name": "python",
   "nbconvert_exporter": "python",
   "pygments_lexer": "ipython3",
   "version": "3.10.12"
  }
 },
 "nbformat": 4,
 "nbformat_minor": 5
}
